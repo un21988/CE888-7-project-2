{
  "nbformat": 4,
  "nbformat_minor": 0,
  "metadata": {
    "colab": {
      "name": "Offensive_classification.ipynb",
      "provenance": [],
      "toc_visible": true,
      "authorship_tag": "ABX9TyPcgB7LIT0pbBC5sWUtQDe6",
      "include_colab_link": true
    },
    "kernelspec": {
      "name": "python3",
      "display_name": "Python 3"
    },
    "widgets": {
      "application/vnd.jupyter.widget-state+json": {
        "dea3acfb18274b99b8c183c14bb8d946": {
          "model_module": "@jupyter-widgets/controls",
          "model_name": "HBoxModel",
          "state": {
            "_view_name": "HBoxView",
            "_dom_classes": [],
            "_model_name": "HBoxModel",
            "_view_module": "@jupyter-widgets/controls",
            "_model_module_version": "1.5.0",
            "_view_count": null,
            "_view_module_version": "1.5.0",
            "box_style": "",
            "layout": "IPY_MODEL_f745784e0def4c639ed1cc2251505e6b",
            "_model_module": "@jupyter-widgets/controls",
            "children": [
              "IPY_MODEL_961dfdad77b44cff91bc1b9abd781a0b",
              "IPY_MODEL_b0341fbf7f3846489e90d523fb8d398d"
            ]
          }
        },
        "f745784e0def4c639ed1cc2251505e6b": {
          "model_module": "@jupyter-widgets/base",
          "model_name": "LayoutModel",
          "state": {
            "_view_name": "LayoutView",
            "grid_template_rows": null,
            "right": null,
            "justify_content": null,
            "_view_module": "@jupyter-widgets/base",
            "overflow": null,
            "_model_module_version": "1.2.0",
            "_view_count": null,
            "flex_flow": null,
            "width": null,
            "min_width": null,
            "border": null,
            "align_items": null,
            "bottom": null,
            "_model_module": "@jupyter-widgets/base",
            "top": null,
            "grid_column": null,
            "overflow_y": null,
            "overflow_x": null,
            "grid_auto_flow": null,
            "grid_area": null,
            "grid_template_columns": null,
            "flex": null,
            "_model_name": "LayoutModel",
            "justify_items": null,
            "grid_row": null,
            "max_height": null,
            "align_content": null,
            "visibility": null,
            "align_self": null,
            "height": null,
            "min_height": null,
            "padding": null,
            "grid_auto_rows": null,
            "grid_gap": null,
            "max_width": null,
            "order": null,
            "_view_module_version": "1.2.0",
            "grid_template_areas": null,
            "object_position": null,
            "object_fit": null,
            "grid_auto_columns": null,
            "margin": null,
            "display": null,
            "left": null
          }
        },
        "961dfdad77b44cff91bc1b9abd781a0b": {
          "model_module": "@jupyter-widgets/controls",
          "model_name": "FloatProgressModel",
          "state": {
            "_view_name": "ProgressView",
            "style": "IPY_MODEL_580fd4e743af42c3be5383726aafee55",
            "_dom_classes": [],
            "description": "Downloading: 100%",
            "_model_name": "FloatProgressModel",
            "bar_style": "success",
            "max": 593,
            "_view_module": "@jupyter-widgets/controls",
            "_model_module_version": "1.5.0",
            "value": 593,
            "_view_count": null,
            "_view_module_version": "1.5.0",
            "orientation": "horizontal",
            "min": 0,
            "description_tooltip": null,
            "_model_module": "@jupyter-widgets/controls",
            "layout": "IPY_MODEL_99d4373463b44f4e82ef555ba013d93f"
          }
        },
        "b0341fbf7f3846489e90d523fb8d398d": {
          "model_module": "@jupyter-widgets/controls",
          "model_name": "HTMLModel",
          "state": {
            "_view_name": "HTMLView",
            "style": "IPY_MODEL_1c8f1f1c292e44b9849467ffc2dcdd72",
            "_dom_classes": [],
            "description": "",
            "_model_name": "HTMLModel",
            "placeholder": "​",
            "_view_module": "@jupyter-widgets/controls",
            "_model_module_version": "1.5.0",
            "value": " 593/593 [00:00&lt;00:00, 1.24kB/s]",
            "_view_count": null,
            "_view_module_version": "1.5.0",
            "description_tooltip": null,
            "_model_module": "@jupyter-widgets/controls",
            "layout": "IPY_MODEL_31dcc657a75c46e5a6cd106b89e808c2"
          }
        },
        "580fd4e743af42c3be5383726aafee55": {
          "model_module": "@jupyter-widgets/controls",
          "model_name": "ProgressStyleModel",
          "state": {
            "_view_name": "StyleView",
            "_model_name": "ProgressStyleModel",
            "description_width": "initial",
            "_view_module": "@jupyter-widgets/base",
            "_model_module_version": "1.5.0",
            "_view_count": null,
            "_view_module_version": "1.2.0",
            "bar_color": null,
            "_model_module": "@jupyter-widgets/controls"
          }
        },
        "99d4373463b44f4e82ef555ba013d93f": {
          "model_module": "@jupyter-widgets/base",
          "model_name": "LayoutModel",
          "state": {
            "_view_name": "LayoutView",
            "grid_template_rows": null,
            "right": null,
            "justify_content": null,
            "_view_module": "@jupyter-widgets/base",
            "overflow": null,
            "_model_module_version": "1.2.0",
            "_view_count": null,
            "flex_flow": null,
            "width": null,
            "min_width": null,
            "border": null,
            "align_items": null,
            "bottom": null,
            "_model_module": "@jupyter-widgets/base",
            "top": null,
            "grid_column": null,
            "overflow_y": null,
            "overflow_x": null,
            "grid_auto_flow": null,
            "grid_area": null,
            "grid_template_columns": null,
            "flex": null,
            "_model_name": "LayoutModel",
            "justify_items": null,
            "grid_row": null,
            "max_height": null,
            "align_content": null,
            "visibility": null,
            "align_self": null,
            "height": null,
            "min_height": null,
            "padding": null,
            "grid_auto_rows": null,
            "grid_gap": null,
            "max_width": null,
            "order": null,
            "_view_module_version": "1.2.0",
            "grid_template_areas": null,
            "object_position": null,
            "object_fit": null,
            "grid_auto_columns": null,
            "margin": null,
            "display": null,
            "left": null
          }
        },
        "1c8f1f1c292e44b9849467ffc2dcdd72": {
          "model_module": "@jupyter-widgets/controls",
          "model_name": "DescriptionStyleModel",
          "state": {
            "_view_name": "StyleView",
            "_model_name": "DescriptionStyleModel",
            "description_width": "",
            "_view_module": "@jupyter-widgets/base",
            "_model_module_version": "1.5.0",
            "_view_count": null,
            "_view_module_version": "1.2.0",
            "_model_module": "@jupyter-widgets/controls"
          }
        },
        "31dcc657a75c46e5a6cd106b89e808c2": {
          "model_module": "@jupyter-widgets/base",
          "model_name": "LayoutModel",
          "state": {
            "_view_name": "LayoutView",
            "grid_template_rows": null,
            "right": null,
            "justify_content": null,
            "_view_module": "@jupyter-widgets/base",
            "overflow": null,
            "_model_module_version": "1.2.0",
            "_view_count": null,
            "flex_flow": null,
            "width": null,
            "min_width": null,
            "border": null,
            "align_items": null,
            "bottom": null,
            "_model_module": "@jupyter-widgets/base",
            "top": null,
            "grid_column": null,
            "overflow_y": null,
            "overflow_x": null,
            "grid_auto_flow": null,
            "grid_area": null,
            "grid_template_columns": null,
            "flex": null,
            "_model_name": "LayoutModel",
            "justify_items": null,
            "grid_row": null,
            "max_height": null,
            "align_content": null,
            "visibility": null,
            "align_self": null,
            "height": null,
            "min_height": null,
            "padding": null,
            "grid_auto_rows": null,
            "grid_gap": null,
            "max_width": null,
            "order": null,
            "_view_module_version": "1.2.0",
            "grid_template_areas": null,
            "object_position": null,
            "object_fit": null,
            "grid_auto_columns": null,
            "margin": null,
            "display": null,
            "left": null
          }
        },
        "61d71b1b14e34a519acd2070549c5d53": {
          "model_module": "@jupyter-widgets/controls",
          "model_name": "HBoxModel",
          "state": {
            "_view_name": "HBoxView",
            "_dom_classes": [],
            "_model_name": "HBoxModel",
            "_view_module": "@jupyter-widgets/controls",
            "_model_module_version": "1.5.0",
            "_view_count": null,
            "_view_module_version": "1.5.0",
            "box_style": "",
            "layout": "IPY_MODEL_85f2c851aa1b4f47aa47a5b26a7cc529",
            "_model_module": "@jupyter-widgets/controls",
            "children": [
              "IPY_MODEL_957605efb78f4f57b333ac0b107fe6f6",
              "IPY_MODEL_8daa142829ea4dc9984e4de56457137a"
            ]
          }
        },
        "85f2c851aa1b4f47aa47a5b26a7cc529": {
          "model_module": "@jupyter-widgets/base",
          "model_name": "LayoutModel",
          "state": {
            "_view_name": "LayoutView",
            "grid_template_rows": null,
            "right": null,
            "justify_content": null,
            "_view_module": "@jupyter-widgets/base",
            "overflow": null,
            "_model_module_version": "1.2.0",
            "_view_count": null,
            "flex_flow": null,
            "width": null,
            "min_width": null,
            "border": null,
            "align_items": null,
            "bottom": null,
            "_model_module": "@jupyter-widgets/base",
            "top": null,
            "grid_column": null,
            "overflow_y": null,
            "overflow_x": null,
            "grid_auto_flow": null,
            "grid_area": null,
            "grid_template_columns": null,
            "flex": null,
            "_model_name": "LayoutModel",
            "justify_items": null,
            "grid_row": null,
            "max_height": null,
            "align_content": null,
            "visibility": null,
            "align_self": null,
            "height": null,
            "min_height": null,
            "padding": null,
            "grid_auto_rows": null,
            "grid_gap": null,
            "max_width": null,
            "order": null,
            "_view_module_version": "1.2.0",
            "grid_template_areas": null,
            "object_position": null,
            "object_fit": null,
            "grid_auto_columns": null,
            "margin": null,
            "display": null,
            "left": null
          }
        },
        "957605efb78f4f57b333ac0b107fe6f6": {
          "model_module": "@jupyter-widgets/controls",
          "model_name": "FloatProgressModel",
          "state": {
            "_view_name": "ProgressView",
            "style": "IPY_MODEL_649c70fb567640b39e2b0535c4c2766e",
            "_dom_classes": [],
            "description": "Downloading: 100%",
            "_model_name": "FloatProgressModel",
            "bar_style": "success",
            "max": 898822,
            "_view_module": "@jupyter-widgets/controls",
            "_model_module_version": "1.5.0",
            "value": 898822,
            "_view_count": null,
            "_view_module_version": "1.5.0",
            "orientation": "horizontal",
            "min": 0,
            "description_tooltip": null,
            "_model_module": "@jupyter-widgets/controls",
            "layout": "IPY_MODEL_a4e8a180939d4337b2a6200d58057770"
          }
        },
        "8daa142829ea4dc9984e4de56457137a": {
          "model_module": "@jupyter-widgets/controls",
          "model_name": "HTMLModel",
          "state": {
            "_view_name": "HTMLView",
            "style": "IPY_MODEL_dbb525e89d8d4a5ba52bea3d62986449",
            "_dom_classes": [],
            "description": "",
            "_model_name": "HTMLModel",
            "placeholder": "​",
            "_view_module": "@jupyter-widgets/controls",
            "_model_module_version": "1.5.0",
            "value": " 899k/899k [00:00&lt;00:00, 2.42MB/s]",
            "_view_count": null,
            "_view_module_version": "1.5.0",
            "description_tooltip": null,
            "_model_module": "@jupyter-widgets/controls",
            "layout": "IPY_MODEL_b5801e60cb2a47089f42074504941e8c"
          }
        },
        "649c70fb567640b39e2b0535c4c2766e": {
          "model_module": "@jupyter-widgets/controls",
          "model_name": "ProgressStyleModel",
          "state": {
            "_view_name": "StyleView",
            "_model_name": "ProgressStyleModel",
            "description_width": "initial",
            "_view_module": "@jupyter-widgets/base",
            "_model_module_version": "1.5.0",
            "_view_count": null,
            "_view_module_version": "1.2.0",
            "bar_color": null,
            "_model_module": "@jupyter-widgets/controls"
          }
        },
        "a4e8a180939d4337b2a6200d58057770": {
          "model_module": "@jupyter-widgets/base",
          "model_name": "LayoutModel",
          "state": {
            "_view_name": "LayoutView",
            "grid_template_rows": null,
            "right": null,
            "justify_content": null,
            "_view_module": "@jupyter-widgets/base",
            "overflow": null,
            "_model_module_version": "1.2.0",
            "_view_count": null,
            "flex_flow": null,
            "width": null,
            "min_width": null,
            "border": null,
            "align_items": null,
            "bottom": null,
            "_model_module": "@jupyter-widgets/base",
            "top": null,
            "grid_column": null,
            "overflow_y": null,
            "overflow_x": null,
            "grid_auto_flow": null,
            "grid_area": null,
            "grid_template_columns": null,
            "flex": null,
            "_model_name": "LayoutModel",
            "justify_items": null,
            "grid_row": null,
            "max_height": null,
            "align_content": null,
            "visibility": null,
            "align_self": null,
            "height": null,
            "min_height": null,
            "padding": null,
            "grid_auto_rows": null,
            "grid_gap": null,
            "max_width": null,
            "order": null,
            "_view_module_version": "1.2.0",
            "grid_template_areas": null,
            "object_position": null,
            "object_fit": null,
            "grid_auto_columns": null,
            "margin": null,
            "display": null,
            "left": null
          }
        },
        "dbb525e89d8d4a5ba52bea3d62986449": {
          "model_module": "@jupyter-widgets/controls",
          "model_name": "DescriptionStyleModel",
          "state": {
            "_view_name": "StyleView",
            "_model_name": "DescriptionStyleModel",
            "description_width": "",
            "_view_module": "@jupyter-widgets/base",
            "_model_module_version": "1.5.0",
            "_view_count": null,
            "_view_module_version": "1.2.0",
            "_model_module": "@jupyter-widgets/controls"
          }
        },
        "b5801e60cb2a47089f42074504941e8c": {
          "model_module": "@jupyter-widgets/base",
          "model_name": "LayoutModel",
          "state": {
            "_view_name": "LayoutView",
            "grid_template_rows": null,
            "right": null,
            "justify_content": null,
            "_view_module": "@jupyter-widgets/base",
            "overflow": null,
            "_model_module_version": "1.2.0",
            "_view_count": null,
            "flex_flow": null,
            "width": null,
            "min_width": null,
            "border": null,
            "align_items": null,
            "bottom": null,
            "_model_module": "@jupyter-widgets/base",
            "top": null,
            "grid_column": null,
            "overflow_y": null,
            "overflow_x": null,
            "grid_auto_flow": null,
            "grid_area": null,
            "grid_template_columns": null,
            "flex": null,
            "_model_name": "LayoutModel",
            "justify_items": null,
            "grid_row": null,
            "max_height": null,
            "align_content": null,
            "visibility": null,
            "align_self": null,
            "height": null,
            "min_height": null,
            "padding": null,
            "grid_auto_rows": null,
            "grid_gap": null,
            "max_width": null,
            "order": null,
            "_view_module_version": "1.2.0",
            "grid_template_areas": null,
            "object_position": null,
            "object_fit": null,
            "grid_auto_columns": null,
            "margin": null,
            "display": null,
            "left": null
          }
        },
        "d441ca9bda114a51b258bf7b1fff793b": {
          "model_module": "@jupyter-widgets/controls",
          "model_name": "HBoxModel",
          "state": {
            "_view_name": "HBoxView",
            "_dom_classes": [],
            "_model_name": "HBoxModel",
            "_view_module": "@jupyter-widgets/controls",
            "_model_module_version": "1.5.0",
            "_view_count": null,
            "_view_module_version": "1.5.0",
            "box_style": "",
            "layout": "IPY_MODEL_6392cc384b02440cbd7ace8dcd6c5fd2",
            "_model_module": "@jupyter-widgets/controls",
            "children": [
              "IPY_MODEL_59cf17c6b2fd4d278ee3528b79d32367",
              "IPY_MODEL_430a4c41e65b4171b483f3fbd08de94c"
            ]
          }
        },
        "6392cc384b02440cbd7ace8dcd6c5fd2": {
          "model_module": "@jupyter-widgets/base",
          "model_name": "LayoutModel",
          "state": {
            "_view_name": "LayoutView",
            "grid_template_rows": null,
            "right": null,
            "justify_content": null,
            "_view_module": "@jupyter-widgets/base",
            "overflow": null,
            "_model_module_version": "1.2.0",
            "_view_count": null,
            "flex_flow": null,
            "width": null,
            "min_width": null,
            "border": null,
            "align_items": null,
            "bottom": null,
            "_model_module": "@jupyter-widgets/base",
            "top": null,
            "grid_column": null,
            "overflow_y": null,
            "overflow_x": null,
            "grid_auto_flow": null,
            "grid_area": null,
            "grid_template_columns": null,
            "flex": null,
            "_model_name": "LayoutModel",
            "justify_items": null,
            "grid_row": null,
            "max_height": null,
            "align_content": null,
            "visibility": null,
            "align_self": null,
            "height": null,
            "min_height": null,
            "padding": null,
            "grid_auto_rows": null,
            "grid_gap": null,
            "max_width": null,
            "order": null,
            "_view_module_version": "1.2.0",
            "grid_template_areas": null,
            "object_position": null,
            "object_fit": null,
            "grid_auto_columns": null,
            "margin": null,
            "display": null,
            "left": null
          }
        },
        "59cf17c6b2fd4d278ee3528b79d32367": {
          "model_module": "@jupyter-widgets/controls",
          "model_name": "FloatProgressModel",
          "state": {
            "_view_name": "ProgressView",
            "style": "IPY_MODEL_a553f3a9ae73494592b1043fdaf229db",
            "_dom_classes": [],
            "description": "Downloading: 100%",
            "_model_name": "FloatProgressModel",
            "bar_style": "success",
            "max": 456318,
            "_view_module": "@jupyter-widgets/controls",
            "_model_module_version": "1.5.0",
            "value": 456318,
            "_view_count": null,
            "_view_module_version": "1.5.0",
            "orientation": "horizontal",
            "min": 0,
            "description_tooltip": null,
            "_model_module": "@jupyter-widgets/controls",
            "layout": "IPY_MODEL_d99428f982d741478a4feb6cbd212e45"
          }
        },
        "430a4c41e65b4171b483f3fbd08de94c": {
          "model_module": "@jupyter-widgets/controls",
          "model_name": "HTMLModel",
          "state": {
            "_view_name": "HTMLView",
            "style": "IPY_MODEL_76c03aed7faa45c3ba6ba3f928c55fe0",
            "_dom_classes": [],
            "description": "",
            "_model_name": "HTMLModel",
            "placeholder": "​",
            "_view_module": "@jupyter-widgets/controls",
            "_model_module_version": "1.5.0",
            "value": " 456k/456k [00:01&lt;00:00, 324kB/s]",
            "_view_count": null,
            "_view_module_version": "1.5.0",
            "description_tooltip": null,
            "_model_module": "@jupyter-widgets/controls",
            "layout": "IPY_MODEL_0e2c421985a14fe5a3e5c2c72e7b271a"
          }
        },
        "a553f3a9ae73494592b1043fdaf229db": {
          "model_module": "@jupyter-widgets/controls",
          "model_name": "ProgressStyleModel",
          "state": {
            "_view_name": "StyleView",
            "_model_name": "ProgressStyleModel",
            "description_width": "initial",
            "_view_module": "@jupyter-widgets/base",
            "_model_module_version": "1.5.0",
            "_view_count": null,
            "_view_module_version": "1.2.0",
            "bar_color": null,
            "_model_module": "@jupyter-widgets/controls"
          }
        },
        "d99428f982d741478a4feb6cbd212e45": {
          "model_module": "@jupyter-widgets/base",
          "model_name": "LayoutModel",
          "state": {
            "_view_name": "LayoutView",
            "grid_template_rows": null,
            "right": null,
            "justify_content": null,
            "_view_module": "@jupyter-widgets/base",
            "overflow": null,
            "_model_module_version": "1.2.0",
            "_view_count": null,
            "flex_flow": null,
            "width": null,
            "min_width": null,
            "border": null,
            "align_items": null,
            "bottom": null,
            "_model_module": "@jupyter-widgets/base",
            "top": null,
            "grid_column": null,
            "overflow_y": null,
            "overflow_x": null,
            "grid_auto_flow": null,
            "grid_area": null,
            "grid_template_columns": null,
            "flex": null,
            "_model_name": "LayoutModel",
            "justify_items": null,
            "grid_row": null,
            "max_height": null,
            "align_content": null,
            "visibility": null,
            "align_self": null,
            "height": null,
            "min_height": null,
            "padding": null,
            "grid_auto_rows": null,
            "grid_gap": null,
            "max_width": null,
            "order": null,
            "_view_module_version": "1.2.0",
            "grid_template_areas": null,
            "object_position": null,
            "object_fit": null,
            "grid_auto_columns": null,
            "margin": null,
            "display": null,
            "left": null
          }
        },
        "76c03aed7faa45c3ba6ba3f928c55fe0": {
          "model_module": "@jupyter-widgets/controls",
          "model_name": "DescriptionStyleModel",
          "state": {
            "_view_name": "StyleView",
            "_model_name": "DescriptionStyleModel",
            "description_width": "",
            "_view_module": "@jupyter-widgets/base",
            "_model_module_version": "1.5.0",
            "_view_count": null,
            "_view_module_version": "1.2.0",
            "_model_module": "@jupyter-widgets/controls"
          }
        },
        "0e2c421985a14fe5a3e5c2c72e7b271a": {
          "model_module": "@jupyter-widgets/base",
          "model_name": "LayoutModel",
          "state": {
            "_view_name": "LayoutView",
            "grid_template_rows": null,
            "right": null,
            "justify_content": null,
            "_view_module": "@jupyter-widgets/base",
            "overflow": null,
            "_model_module_version": "1.2.0",
            "_view_count": null,
            "flex_flow": null,
            "width": null,
            "min_width": null,
            "border": null,
            "align_items": null,
            "bottom": null,
            "_model_module": "@jupyter-widgets/base",
            "top": null,
            "grid_column": null,
            "overflow_y": null,
            "overflow_x": null,
            "grid_auto_flow": null,
            "grid_area": null,
            "grid_template_columns": null,
            "flex": null,
            "_model_name": "LayoutModel",
            "justify_items": null,
            "grid_row": null,
            "max_height": null,
            "align_content": null,
            "visibility": null,
            "align_self": null,
            "height": null,
            "min_height": null,
            "padding": null,
            "grid_auto_rows": null,
            "grid_gap": null,
            "max_width": null,
            "order": null,
            "_view_module_version": "1.2.0",
            "grid_template_areas": null,
            "object_position": null,
            "object_fit": null,
            "grid_auto_columns": null,
            "margin": null,
            "display": null,
            "left": null
          }
        },
        "976d94162a5e4461b39e349f233eecd8": {
          "model_module": "@jupyter-widgets/controls",
          "model_name": "HBoxModel",
          "state": {
            "_view_name": "HBoxView",
            "_dom_classes": [],
            "_model_name": "HBoxModel",
            "_view_module": "@jupyter-widgets/controls",
            "_model_module_version": "1.5.0",
            "_view_count": null,
            "_view_module_version": "1.5.0",
            "box_style": "",
            "layout": "IPY_MODEL_0e081c4736d44a098d82f75193672825",
            "_model_module": "@jupyter-widgets/controls",
            "children": [
              "IPY_MODEL_2ccac8d4d1ab4983a7bbfd48762ef764",
              "IPY_MODEL_c5d79127991c42edbc6238a4dc171df9"
            ]
          }
        },
        "0e081c4736d44a098d82f75193672825": {
          "model_module": "@jupyter-widgets/base",
          "model_name": "LayoutModel",
          "state": {
            "_view_name": "LayoutView",
            "grid_template_rows": null,
            "right": null,
            "justify_content": null,
            "_view_module": "@jupyter-widgets/base",
            "overflow": null,
            "_model_module_version": "1.2.0",
            "_view_count": null,
            "flex_flow": null,
            "width": null,
            "min_width": null,
            "border": null,
            "align_items": null,
            "bottom": null,
            "_model_module": "@jupyter-widgets/base",
            "top": null,
            "grid_column": null,
            "overflow_y": null,
            "overflow_x": null,
            "grid_auto_flow": null,
            "grid_area": null,
            "grid_template_columns": null,
            "flex": null,
            "_model_name": "LayoutModel",
            "justify_items": null,
            "grid_row": null,
            "max_height": null,
            "align_content": null,
            "visibility": null,
            "align_self": null,
            "height": null,
            "min_height": null,
            "padding": null,
            "grid_auto_rows": null,
            "grid_gap": null,
            "max_width": null,
            "order": null,
            "_view_module_version": "1.2.0",
            "grid_template_areas": null,
            "object_position": null,
            "object_fit": null,
            "grid_auto_columns": null,
            "margin": null,
            "display": null,
            "left": null
          }
        },
        "2ccac8d4d1ab4983a7bbfd48762ef764": {
          "model_module": "@jupyter-widgets/controls",
          "model_name": "FloatProgressModel",
          "state": {
            "_view_name": "ProgressView",
            "style": "IPY_MODEL_57e1c2a6b3114e5c9125ce5b0dca972e",
            "_dom_classes": [],
            "description": "Downloading: 100%",
            "_model_name": "FloatProgressModel",
            "bar_style": "success",
            "max": 150,
            "_view_module": "@jupyter-widgets/controls",
            "_model_module_version": "1.5.0",
            "value": 150,
            "_view_count": null,
            "_view_module_version": "1.5.0",
            "orientation": "horizontal",
            "min": 0,
            "description_tooltip": null,
            "_model_module": "@jupyter-widgets/controls",
            "layout": "IPY_MODEL_752d7d1cb09b4870be184d44ee0b5f5b"
          }
        },
        "c5d79127991c42edbc6238a4dc171df9": {
          "model_module": "@jupyter-widgets/controls",
          "model_name": "HTMLModel",
          "state": {
            "_view_name": "HTMLView",
            "style": "IPY_MODEL_82d6a38c09994051b9c3b622ba2340f6",
            "_dom_classes": [],
            "description": "",
            "_model_name": "HTMLModel",
            "placeholder": "​",
            "_view_module": "@jupyter-widgets/controls",
            "_model_module_version": "1.5.0",
            "value": " 150/150 [00:00&lt;00:00, 509B/s]",
            "_view_count": null,
            "_view_module_version": "1.5.0",
            "description_tooltip": null,
            "_model_module": "@jupyter-widgets/controls",
            "layout": "IPY_MODEL_f4c3b12646d2454d95804a2341513ee8"
          }
        },
        "57e1c2a6b3114e5c9125ce5b0dca972e": {
          "model_module": "@jupyter-widgets/controls",
          "model_name": "ProgressStyleModel",
          "state": {
            "_view_name": "StyleView",
            "_model_name": "ProgressStyleModel",
            "description_width": "initial",
            "_view_module": "@jupyter-widgets/base",
            "_model_module_version": "1.5.0",
            "_view_count": null,
            "_view_module_version": "1.2.0",
            "bar_color": null,
            "_model_module": "@jupyter-widgets/controls"
          }
        },
        "752d7d1cb09b4870be184d44ee0b5f5b": {
          "model_module": "@jupyter-widgets/base",
          "model_name": "LayoutModel",
          "state": {
            "_view_name": "LayoutView",
            "grid_template_rows": null,
            "right": null,
            "justify_content": null,
            "_view_module": "@jupyter-widgets/base",
            "overflow": null,
            "_model_module_version": "1.2.0",
            "_view_count": null,
            "flex_flow": null,
            "width": null,
            "min_width": null,
            "border": null,
            "align_items": null,
            "bottom": null,
            "_model_module": "@jupyter-widgets/base",
            "top": null,
            "grid_column": null,
            "overflow_y": null,
            "overflow_x": null,
            "grid_auto_flow": null,
            "grid_area": null,
            "grid_template_columns": null,
            "flex": null,
            "_model_name": "LayoutModel",
            "justify_items": null,
            "grid_row": null,
            "max_height": null,
            "align_content": null,
            "visibility": null,
            "align_self": null,
            "height": null,
            "min_height": null,
            "padding": null,
            "grid_auto_rows": null,
            "grid_gap": null,
            "max_width": null,
            "order": null,
            "_view_module_version": "1.2.0",
            "grid_template_areas": null,
            "object_position": null,
            "object_fit": null,
            "grid_auto_columns": null,
            "margin": null,
            "display": null,
            "left": null
          }
        },
        "82d6a38c09994051b9c3b622ba2340f6": {
          "model_module": "@jupyter-widgets/controls",
          "model_name": "DescriptionStyleModel",
          "state": {
            "_view_name": "StyleView",
            "_model_name": "DescriptionStyleModel",
            "description_width": "",
            "_view_module": "@jupyter-widgets/base",
            "_model_module_version": "1.5.0",
            "_view_count": null,
            "_view_module_version": "1.2.0",
            "_model_module": "@jupyter-widgets/controls"
          }
        },
        "f4c3b12646d2454d95804a2341513ee8": {
          "model_module": "@jupyter-widgets/base",
          "model_name": "LayoutModel",
          "state": {
            "_view_name": "LayoutView",
            "grid_template_rows": null,
            "right": null,
            "justify_content": null,
            "_view_module": "@jupyter-widgets/base",
            "overflow": null,
            "_model_module_version": "1.2.0",
            "_view_count": null,
            "flex_flow": null,
            "width": null,
            "min_width": null,
            "border": null,
            "align_items": null,
            "bottom": null,
            "_model_module": "@jupyter-widgets/base",
            "top": null,
            "grid_column": null,
            "overflow_y": null,
            "overflow_x": null,
            "grid_auto_flow": null,
            "grid_area": null,
            "grid_template_columns": null,
            "flex": null,
            "_model_name": "LayoutModel",
            "justify_items": null,
            "grid_row": null,
            "max_height": null,
            "align_content": null,
            "visibility": null,
            "align_self": null,
            "height": null,
            "min_height": null,
            "padding": null,
            "grid_auto_rows": null,
            "grid_gap": null,
            "max_width": null,
            "order": null,
            "_view_module_version": "1.2.0",
            "grid_template_areas": null,
            "object_position": null,
            "object_fit": null,
            "grid_auto_columns": null,
            "margin": null,
            "display": null,
            "left": null
          }
        },
        "d8d545473a66409596df69db3ceb6798": {
          "model_module": "@jupyter-widgets/controls",
          "model_name": "HBoxModel",
          "state": {
            "_view_name": "HBoxView",
            "_dom_classes": [],
            "_model_name": "HBoxModel",
            "_view_module": "@jupyter-widgets/controls",
            "_model_module_version": "1.5.0",
            "_view_count": null,
            "_view_module_version": "1.5.0",
            "box_style": "",
            "layout": "IPY_MODEL_9d43cb15b48c48b38282009e2d74734e",
            "_model_module": "@jupyter-widgets/controls",
            "children": [
              "IPY_MODEL_7bdb1dc9c97f41aa8a89586738922c5f",
              "IPY_MODEL_4421e445a27b43b08d129114e7cf37a6"
            ]
          }
        },
        "9d43cb15b48c48b38282009e2d74734e": {
          "model_module": "@jupyter-widgets/base",
          "model_name": "LayoutModel",
          "state": {
            "_view_name": "LayoutView",
            "grid_template_rows": null,
            "right": null,
            "justify_content": null,
            "_view_module": "@jupyter-widgets/base",
            "overflow": null,
            "_model_module_version": "1.2.0",
            "_view_count": null,
            "flex_flow": null,
            "width": null,
            "min_width": null,
            "border": null,
            "align_items": null,
            "bottom": null,
            "_model_module": "@jupyter-widgets/base",
            "top": null,
            "grid_column": null,
            "overflow_y": null,
            "overflow_x": null,
            "grid_auto_flow": null,
            "grid_area": null,
            "grid_template_columns": null,
            "flex": null,
            "_model_name": "LayoutModel",
            "justify_items": null,
            "grid_row": null,
            "max_height": null,
            "align_content": null,
            "visibility": null,
            "align_self": null,
            "height": null,
            "min_height": null,
            "padding": null,
            "grid_auto_rows": null,
            "grid_gap": null,
            "max_width": null,
            "order": null,
            "_view_module_version": "1.2.0",
            "grid_template_areas": null,
            "object_position": null,
            "object_fit": null,
            "grid_auto_columns": null,
            "margin": null,
            "display": null,
            "left": null
          }
        },
        "7bdb1dc9c97f41aa8a89586738922c5f": {
          "model_module": "@jupyter-widgets/controls",
          "model_name": "FloatProgressModel",
          "state": {
            "_view_name": "ProgressView",
            "style": "IPY_MODEL_15cd599f6c544db1ad112c5d4d23f245",
            "_dom_classes": [],
            "description": "Downloading: 100%",
            "_model_name": "FloatProgressModel",
            "bar_style": "success",
            "max": 501227432,
            "_view_module": "@jupyter-widgets/controls",
            "_model_module_version": "1.5.0",
            "value": 501227432,
            "_view_count": null,
            "_view_module_version": "1.5.0",
            "orientation": "horizontal",
            "min": 0,
            "description_tooltip": null,
            "_model_module": "@jupyter-widgets/controls",
            "layout": "IPY_MODEL_ec923f5882874b679326c44dbd458bcf"
          }
        },
        "4421e445a27b43b08d129114e7cf37a6": {
          "model_module": "@jupyter-widgets/controls",
          "model_name": "HTMLModel",
          "state": {
            "_view_name": "HTMLView",
            "style": "IPY_MODEL_ddfb77e57c69416e991688b6ecbeb4e5",
            "_dom_classes": [],
            "description": "",
            "_model_name": "HTMLModel",
            "placeholder": "​",
            "_view_module": "@jupyter-widgets/controls",
            "_model_module_version": "1.5.0",
            "value": " 501M/501M [00:12&lt;00:00, 39.1MB/s]",
            "_view_count": null,
            "_view_module_version": "1.5.0",
            "description_tooltip": null,
            "_model_module": "@jupyter-widgets/controls",
            "layout": "IPY_MODEL_316c0b2c9f0e4c239d87c44382a15479"
          }
        },
        "15cd599f6c544db1ad112c5d4d23f245": {
          "model_module": "@jupyter-widgets/controls",
          "model_name": "ProgressStyleModel",
          "state": {
            "_view_name": "StyleView",
            "_model_name": "ProgressStyleModel",
            "description_width": "initial",
            "_view_module": "@jupyter-widgets/base",
            "_model_module_version": "1.5.0",
            "_view_count": null,
            "_view_module_version": "1.2.0",
            "bar_color": null,
            "_model_module": "@jupyter-widgets/controls"
          }
        },
        "ec923f5882874b679326c44dbd458bcf": {
          "model_module": "@jupyter-widgets/base",
          "model_name": "LayoutModel",
          "state": {
            "_view_name": "LayoutView",
            "grid_template_rows": null,
            "right": null,
            "justify_content": null,
            "_view_module": "@jupyter-widgets/base",
            "overflow": null,
            "_model_module_version": "1.2.0",
            "_view_count": null,
            "flex_flow": null,
            "width": null,
            "min_width": null,
            "border": null,
            "align_items": null,
            "bottom": null,
            "_model_module": "@jupyter-widgets/base",
            "top": null,
            "grid_column": null,
            "overflow_y": null,
            "overflow_x": null,
            "grid_auto_flow": null,
            "grid_area": null,
            "grid_template_columns": null,
            "flex": null,
            "_model_name": "LayoutModel",
            "justify_items": null,
            "grid_row": null,
            "max_height": null,
            "align_content": null,
            "visibility": null,
            "align_self": null,
            "height": null,
            "min_height": null,
            "padding": null,
            "grid_auto_rows": null,
            "grid_gap": null,
            "max_width": null,
            "order": null,
            "_view_module_version": "1.2.0",
            "grid_template_areas": null,
            "object_position": null,
            "object_fit": null,
            "grid_auto_columns": null,
            "margin": null,
            "display": null,
            "left": null
          }
        },
        "ddfb77e57c69416e991688b6ecbeb4e5": {
          "model_module": "@jupyter-widgets/controls",
          "model_name": "DescriptionStyleModel",
          "state": {
            "_view_name": "StyleView",
            "_model_name": "DescriptionStyleModel",
            "description_width": "",
            "_view_module": "@jupyter-widgets/base",
            "_model_module_version": "1.5.0",
            "_view_count": null,
            "_view_module_version": "1.2.0",
            "_model_module": "@jupyter-widgets/controls"
          }
        },
        "316c0b2c9f0e4c239d87c44382a15479": {
          "model_module": "@jupyter-widgets/base",
          "model_name": "LayoutModel",
          "state": {
            "_view_name": "LayoutView",
            "grid_template_rows": null,
            "right": null,
            "justify_content": null,
            "_view_module": "@jupyter-widgets/base",
            "overflow": null,
            "_model_module_version": "1.2.0",
            "_view_count": null,
            "flex_flow": null,
            "width": null,
            "min_width": null,
            "border": null,
            "align_items": null,
            "bottom": null,
            "_model_module": "@jupyter-widgets/base",
            "top": null,
            "grid_column": null,
            "overflow_y": null,
            "overflow_x": null,
            "grid_auto_flow": null,
            "grid_area": null,
            "grid_template_columns": null,
            "flex": null,
            "_model_name": "LayoutModel",
            "justify_items": null,
            "grid_row": null,
            "max_height": null,
            "align_content": null,
            "visibility": null,
            "align_self": null,
            "height": null,
            "min_height": null,
            "padding": null,
            "grid_auto_rows": null,
            "grid_gap": null,
            "max_width": null,
            "order": null,
            "_view_module_version": "1.2.0",
            "grid_template_areas": null,
            "object_position": null,
            "object_fit": null,
            "grid_auto_columns": null,
            "margin": null,
            "display": null,
            "left": null
          }
        }
      }
    }
  },
  "cells": [
    {
      "cell_type": "markdown",
      "metadata": {
        "id": "view-in-github",
        "colab_type": "text"
      },
      "source": [
        "<a href=\"https://colab.research.google.com/github/un21988/CE888-7-project-2/blob/main/Offensive_classification.ipynb\" target=\"_parent\"><img src=\"https://colab.research.google.com/assets/colab-badge.svg\" alt=\"Open In Colab\"/></a>"
      ]
    },
    {
      "cell_type": "code",
      "metadata": {
        "id": "ZJ3peBeI5oKU"
      },
      "source": [
        "def preprocess(text):\r\n",
        "    new_text = []\r\n",
        "    for t in text.split(\" \"):\r\n",
        "        t = '@user' if t.startswith('@') and len(t) > 1 else t\r\n",
        "        t = 'http' if t.startswith('http') else t\r\n",
        "        new_text.append(t)\r\n",
        "    return \" \".join(new_text)"
      ],
      "execution_count": 55,
      "outputs": []
    },
    {
      "cell_type": "code",
      "metadata": {
        "colab": {
          "base_uri": "https://localhost:8080/"
        },
        "id": "nSiJ07Eg6weC",
        "outputId": "cb41e515-c459-44d7-ab36-8418d6ba5c74"
      },
      "source": [
        "!pip install transformers"
      ],
      "execution_count": 45,
      "outputs": [
        {
          "output_type": "stream",
          "text": [
            "Requirement already satisfied: transformers in /usr/local/lib/python3.7/dist-packages (4.3.2)\n",
            "Requirement already satisfied: sacremoses in /usr/local/lib/python3.7/dist-packages (from transformers) (0.0.43)\n",
            "Requirement already satisfied: numpy>=1.17 in /usr/local/lib/python3.7/dist-packages (from transformers) (1.19.5)\n",
            "Requirement already satisfied: tokenizers<0.11,>=0.10.1 in /usr/local/lib/python3.7/dist-packages (from transformers) (0.10.1)\n",
            "Requirement already satisfied: regex!=2019.12.17 in /usr/local/lib/python3.7/dist-packages (from transformers) (2019.12.20)\n",
            "Requirement already satisfied: importlib-metadata; python_version < \"3.8\" in /usr/local/lib/python3.7/dist-packages (from transformers) (3.4.0)\n",
            "Requirement already satisfied: requests in /usr/local/lib/python3.7/dist-packages (from transformers) (2.23.0)\n",
            "Requirement already satisfied: tqdm>=4.27 in /usr/local/lib/python3.7/dist-packages (from transformers) (4.41.1)\n",
            "Requirement already satisfied: filelock in /usr/local/lib/python3.7/dist-packages (from transformers) (3.0.12)\n",
            "Requirement already satisfied: packaging in /usr/local/lib/python3.7/dist-packages (from transformers) (20.9)\n",
            "Requirement already satisfied: joblib in /usr/local/lib/python3.7/dist-packages (from sacremoses->transformers) (1.0.1)\n",
            "Requirement already satisfied: six in /usr/local/lib/python3.7/dist-packages (from sacremoses->transformers) (1.15.0)\n",
            "Requirement already satisfied: click in /usr/local/lib/python3.7/dist-packages (from sacremoses->transformers) (7.1.2)\n",
            "Requirement already satisfied: typing-extensions>=3.6.4; python_version < \"3.8\" in /usr/local/lib/python3.7/dist-packages (from importlib-metadata; python_version < \"3.8\"->transformers) (3.7.4.3)\n",
            "Requirement already satisfied: zipp>=0.5 in /usr/local/lib/python3.7/dist-packages (from importlib-metadata; python_version < \"3.8\"->transformers) (3.4.0)\n",
            "Requirement already satisfied: certifi>=2017.4.17 in /usr/local/lib/python3.7/dist-packages (from requests->transformers) (2020.12.5)\n",
            "Requirement already satisfied: chardet<4,>=3.0.2 in /usr/local/lib/python3.7/dist-packages (from requests->transformers) (3.0.4)\n",
            "Requirement already satisfied: idna<3,>=2.5 in /usr/local/lib/python3.7/dist-packages (from requests->transformers) (2.10)\n",
            "Requirement already satisfied: urllib3!=1.25.0,!=1.25.1,<1.26,>=1.21.1 in /usr/local/lib/python3.7/dist-packages (from requests->transformers) (1.24.3)\n",
            "Requirement already satisfied: pyparsing>=2.0.2 in /usr/local/lib/python3.7/dist-packages (from packaging->transformers) (2.4.7)\n"
          ],
          "name": "stdout"
        }
      ]
    },
    {
      "cell_type": "code",
      "metadata": {
        "colab": {
          "base_uri": "https://localhost:8080/",
          "height": 212,
          "referenced_widgets": [
            "dea3acfb18274b99b8c183c14bb8d946",
            "f745784e0def4c639ed1cc2251505e6b",
            "961dfdad77b44cff91bc1b9abd781a0b",
            "b0341fbf7f3846489e90d523fb8d398d",
            "580fd4e743af42c3be5383726aafee55",
            "99d4373463b44f4e82ef555ba013d93f",
            "1c8f1f1c292e44b9849467ffc2dcdd72",
            "31dcc657a75c46e5a6cd106b89e808c2",
            "61d71b1b14e34a519acd2070549c5d53",
            "85f2c851aa1b4f47aa47a5b26a7cc529",
            "957605efb78f4f57b333ac0b107fe6f6",
            "8daa142829ea4dc9984e4de56457137a",
            "649c70fb567640b39e2b0535c4c2766e",
            "a4e8a180939d4337b2a6200d58057770",
            "dbb525e89d8d4a5ba52bea3d62986449",
            "b5801e60cb2a47089f42074504941e8c",
            "d441ca9bda114a51b258bf7b1fff793b",
            "6392cc384b02440cbd7ace8dcd6c5fd2",
            "59cf17c6b2fd4d278ee3528b79d32367",
            "430a4c41e65b4171b483f3fbd08de94c",
            "a553f3a9ae73494592b1043fdaf229db",
            "d99428f982d741478a4feb6cbd212e45",
            "76c03aed7faa45c3ba6ba3f928c55fe0",
            "0e2c421985a14fe5a3e5c2c72e7b271a",
            "976d94162a5e4461b39e349f233eecd8",
            "0e081c4736d44a098d82f75193672825",
            "2ccac8d4d1ab4983a7bbfd48762ef764",
            "c5d79127991c42edbc6238a4dc171df9",
            "57e1c2a6b3114e5c9125ce5b0dca972e",
            "752d7d1cb09b4870be184d44ee0b5f5b",
            "82d6a38c09994051b9c3b622ba2340f6",
            "f4c3b12646d2454d95804a2341513ee8"
          ]
        },
        "id": "rHNLtMJZ6-fa",
        "outputId": "a6d150dc-c1f6-4b56-b274-21161cf6b1bf"
      },
      "source": [
        "from transformers import AutoModelForSequenceClassification\r\n",
        "from transformers import TFAutoModelForSequenceClassification\r\n",
        "from transformers import AutoTokenizer\r\n",
        "import numpy as np\r\n",
        "from scipy.special import softmax\r\n",
        "import csv\r\n",
        "import urllib.request\r\n",
        "\r\n",
        "task='offensive'\r\n",
        "MODEL = f\"cardiffnlp/twitter-roberta-base-{task}\"\r\n",
        "\r\n",
        "tokenizer = AutoTokenizer.from_pretrained(MODEL)\r\n"
      ],
      "execution_count": 63,
      "outputs": [
        {
          "output_type": "display_data",
          "data": {
            "application/vnd.jupyter.widget-view+json": {
              "model_id": "dea3acfb18274b99b8c183c14bb8d946",
              "version_minor": 0,
              "version_major": 2
            },
            "text/plain": [
              "HBox(children=(FloatProgress(value=0.0, description='Downloading', max=593.0, style=ProgressStyle(description_…"
            ]
          },
          "metadata": {
            "tags": []
          }
        },
        {
          "output_type": "stream",
          "text": [
            "\n"
          ],
          "name": "stdout"
        },
        {
          "output_type": "display_data",
          "data": {
            "application/vnd.jupyter.widget-view+json": {
              "model_id": "61d71b1b14e34a519acd2070549c5d53",
              "version_minor": 0,
              "version_major": 2
            },
            "text/plain": [
              "HBox(children=(FloatProgress(value=0.0, description='Downloading', max=898822.0, style=ProgressStyle(descripti…"
            ]
          },
          "metadata": {
            "tags": []
          }
        },
        {
          "output_type": "stream",
          "text": [
            "\n"
          ],
          "name": "stdout"
        },
        {
          "output_type": "display_data",
          "data": {
            "application/vnd.jupyter.widget-view+json": {
              "model_id": "d441ca9bda114a51b258bf7b1fff793b",
              "version_minor": 0,
              "version_major": 2
            },
            "text/plain": [
              "HBox(children=(FloatProgress(value=0.0, description='Downloading', max=456318.0, style=ProgressStyle(descripti…"
            ]
          },
          "metadata": {
            "tags": []
          }
        },
        {
          "output_type": "stream",
          "text": [
            "\n"
          ],
          "name": "stdout"
        },
        {
          "output_type": "display_data",
          "data": {
            "application/vnd.jupyter.widget-view+json": {
              "model_id": "976d94162a5e4461b39e349f233eecd8",
              "version_minor": 0,
              "version_major": 2
            },
            "text/plain": [
              "HBox(children=(FloatProgress(value=0.0, description='Downloading', max=150.0, style=ProgressStyle(description_…"
            ]
          },
          "metadata": {
            "tags": []
          }
        },
        {
          "output_type": "stream",
          "text": [
            "\n"
          ],
          "name": "stdout"
        }
      ]
    },
    {
      "cell_type": "code",
      "metadata": {
        "colab": {
          "base_uri": "https://localhost:8080/"
        },
        "id": "7SZMXaPi7DeD",
        "outputId": "824e659e-c1c8-4768-ce97-15a82d1582a5"
      },
      "source": [
        "# download label mapping\r\n",
        "mapping_link = f\"https://raw.githubusercontent.com/cardiffnlp/tweeteval/main/datasets/offensive/mapping.txt\"\r\n",
        "with urllib.request.urlopen(mapping_link) as f:\r\n",
        "    html = f.read().decode('utf-8').split(\"\\n\")\r\n",
        "    csvreader = csv.reader(html, delimiter='\\t')\r\n",
        "labels = [row[1] for row in csvreader if len(row) > 1]\r\n",
        "labels"
      ],
      "execution_count": 62,
      "outputs": [
        {
          "output_type": "execute_result",
          "data": {
            "text/plain": [
              "['not-offensive', 'offensive']"
            ]
          },
          "metadata": {
            "tags": []
          },
          "execution_count": 62
        }
      ]
    },
    {
      "cell_type": "code",
      "metadata": {
        "colab": {
          "base_uri": "https://localhost:8080/"
        },
        "id": "rYjuFNVZ7HAS",
        "outputId": "67c1be36-cda0-4f6d-cd6f-b130ea14dfe6"
      },
      "source": [
        "import pandas as pd\r\n",
        "import urllib.request \r\n",
        "import requests\r\n",
        "\r\n",
        "test_text_url = \"https://raw.githubusercontent.com/cardiffnlp/tweeteval/main/datasets/offensive/test_text.txt\"\r\n",
        "val_text_url= \"https://raw.githubusercontent.com/cardiffnlp/tweeteval/main/datasets/offensive/val_text.txt\"\r\n",
        "val_lable_url= \"https://raw.githubusercontent.com/cardiffnlp/tweeteval/main/datasets/offensive/val_labels.txt\"\r\n",
        "#df = open(url,\"r\")\r\n",
        "#print(df)\r\n",
        "\r\n",
        "\r\n",
        "r = requests.get(test_text_url, allow_redirects=True)\r\n",
        "open('test_text.txt', 'wb').write(r.content)\r\n",
        "\r\n",
        "r1 = requests.get(val_text_url, allow_redirects=True)\r\n",
        "open('val_text.txt', 'wb').write(r1.content)\r\n",
        "\r\n",
        "\r\n",
        "r2 = requests.get(val_lable_url, allow_redirects=True)\r\n",
        "open('val_lable.txt', 'wb').write(r2.content)\r\n",
        "\r\n",
        "\r\n",
        "\r\n",
        "\r\n"
      ],
      "execution_count": 64,
      "outputs": [
        {
          "output_type": "execute_result",
          "data": {
            "text/plain": [
              "2648"
            ]
          },
          "metadata": {
            "tags": []
          },
          "execution_count": 64
        }
      ]
    },
    {
      "cell_type": "code",
      "metadata": {
        "colab": {
          "base_uri": "https://localhost:8080/"
        },
        "id": "MBmmy2te7TeP",
        "outputId": "8b7313f7-3562-47a9-d728-1ad79109671d"
      },
      "source": [
        "stream=open(\"test_text.txt\")\r\n",
        "tweets=stream.readlines()\r\n",
        "stream.close()\r\n",
        "print(tweets[1])"
      ],
      "execution_count": 65,
      "outputs": [
        {
          "output_type": "stream",
          "text": [
            "@user @user @user I got in a pretty deep debate with my friend and she told me that latinos for Trump and blacks for Trump were paid supporters 😂 then I said you mean antifa are paid domestic terrorist and she said No they are  anti-fascist then I said they are the fascist are you kidding me?! \n",
            "\n"
          ],
          "name": "stdout"
        }
      ]
    },
    {
      "cell_type": "code",
      "metadata": {
        "colab": {
          "base_uri": "https://localhost:8080/"
        },
        "id": "c8q9hhdw7VOf",
        "outputId": "f1acf8d5-b83c-46a9-fb66-b7fbb1b4a806"
      },
      "source": [
        "stream1=open(\"val_lable.txt\")\r\n",
        "val_lable=stream1.readlines()\r\n",
        "stream1.close()\r\n",
        "print(val_lable)"
      ],
      "execution_count": 66,
      "outputs": [
        {
          "output_type": "stream",
          "text": [
            "['0\\n', '1\\n', '0\\n', '0\\n', '0\\n', '0\\n', '1\\n', '0\\n', '0\\n', '0\\n', '0\\n', '0\\n', '0\\n', '0\\n', '1\\n', '0\\n', '0\\n', '0\\n', '0\\n', '0\\n', '0\\n', '0\\n', '1\\n', '1\\n', '0\\n', '1\\n', '0\\n', '1\\n', '1\\n', '0\\n', '0\\n', '1\\n', '0\\n', '1\\n', '0\\n', '0\\n', '0\\n', '1\\n', '0\\n', '1\\n', '0\\n', '0\\n', '1\\n', '0\\n', '0\\n', '1\\n', '0\\n', '0\\n', '1\\n', '0\\n', '1\\n', '0\\n', '0\\n', '0\\n', '0\\n', '0\\n', '0\\n', '1\\n', '0\\n', '1\\n', '1\\n', '0\\n', '1\\n', '0\\n', '0\\n', '1\\n', '1\\n', '0\\n', '0\\n', '0\\n', '1\\n', '0\\n', '0\\n', '1\\n', '0\\n', '0\\n', '0\\n', '0\\n', '0\\n', '0\\n', '1\\n', '0\\n', '0\\n', '1\\n', '0\\n', '0\\n', '0\\n', '0\\n', '0\\n', '0\\n', '1\\n', '0\\n', '1\\n', '0\\n', '1\\n', '0\\n', '0\\n', '0\\n', '0\\n', '0\\n', '1\\n', '0\\n', '0\\n', '0\\n', '1\\n', '0\\n', '0\\n', '0\\n', '1\\n', '0\\n', '0\\n', '1\\n', '1\\n', '0\\n', '1\\n', '1\\n', '0\\n', '1\\n', '0\\n', '0\\n', '0\\n', '0\\n', '0\\n', '1\\n', '0\\n', '1\\n', '1\\n', '1\\n', '0\\n', '0\\n', '0\\n', '1\\n', '1\\n', '0\\n', '1\\n', '0\\n', '0\\n', '0\\n', '0\\n', '0\\n', '0\\n', '1\\n', '0\\n', '1\\n', '0\\n', '1\\n', '1\\n', '1\\n', '0\\n', '1\\n', '0\\n', '1\\n', '0\\n', '1\\n', '1\\n', '0\\n', '0\\n', '0\\n', '1\\n', '1\\n', '0\\n', '1\\n', '0\\n', '0\\n', '0\\n', '1\\n', '1\\n', '0\\n', '1\\n', '0\\n', '0\\n', '0\\n', '0\\n', '0\\n', '0\\n', '0\\n', '0\\n', '0\\n', '1\\n', '0\\n', '1\\n', '0\\n', '0\\n', '0\\n', '0\\n', '1\\n', '1\\n', '1\\n', '0\\n', '0\\n', '0\\n', '0\\n', '0\\n', '0\\n', '0\\n', '1\\n', '0\\n', '1\\n', '0\\n', '0\\n', '0\\n', '1\\n', '0\\n', '1\\n', '0\\n', '1\\n', '1\\n', '0\\n', '0\\n', '1\\n', '0\\n', '1\\n', '0\\n', '1\\n', '0\\n', '0\\n', '0\\n', '0\\n', '0\\n', '0\\n', '0\\n', '0\\n', '0\\n', '0\\n', '0\\n', '0\\n', '0\\n', '1\\n', '0\\n', '0\\n', '1\\n', '1\\n', '0\\n', '1\\n', '1\\n', '0\\n', '1\\n', '1\\n', '0\\n', '1\\n', '0\\n', '1\\n', '0\\n', '0\\n', '1\\n', '0\\n', '0\\n', '0\\n', '0\\n', '0\\n', '1\\n', '1\\n', '1\\n', '1\\n', '1\\n', '0\\n', '0\\n', '0\\n', '0\\n', '1\\n', '1\\n', '0\\n', '1\\n', '1\\n', '0\\n', '0\\n', '0\\n', '0\\n', '0\\n', '0\\n', '0\\n', '0\\n', '0\\n', '0\\n', '1\\n', '1\\n', '1\\n', '0\\n', '1\\n', '0\\n', '0\\n', '0\\n', '0\\n', '0\\n', '1\\n', '0\\n', '0\\n', '0\\n', '0\\n', '0\\n', '1\\n', '0\\n', '0\\n', '0\\n', '0\\n', '1\\n', '0\\n', '0\\n', '1\\n', '1\\n', '0\\n', '0\\n', '0\\n', '0\\n', '0\\n', '1\\n', '0\\n', '0\\n', '1\\n', '0\\n', '0\\n', '0\\n', '0\\n', '0\\n', '0\\n', '0\\n', '0\\n', '1\\n', '0\\n', '1\\n', '0\\n', '0\\n', '1\\n', '0\\n', '1\\n', '1\\n', '0\\n', '0\\n', '0\\n', '0\\n', '0\\n', '0\\n', '0\\n', '1\\n', '0\\n', '0\\n', '0\\n', '0\\n', '1\\n', '1\\n', '0\\n', '1\\n', '0\\n', '1\\n', '1\\n', '0\\n', '0\\n', '0\\n', '0\\n', '0\\n', '0\\n', '0\\n', '0\\n', '1\\n', '0\\n', '1\\n', '0\\n', '0\\n', '0\\n', '1\\n', '1\\n', '0\\n', '0\\n', '1\\n', '0\\n', '0\\n', '0\\n', '0\\n', '0\\n', '0\\n', '1\\n', '0\\n', '0\\n', '1\\n', '0\\n', '0\\n', '0\\n', '0\\n', '0\\n', '1\\n', '0\\n', '1\\n', '0\\n', '0\\n', '0\\n', '0\\n', '1\\n', '0\\n', '0\\n', '1\\n', '0\\n', '1\\n', '0\\n', '1\\n', '1\\n', '1\\n', '0\\n', '1\\n', '1\\n', '1\\n', '1\\n', '0\\n', '0\\n', '0\\n', '1\\n', '0\\n', '0\\n', '0\\n', '0\\n', '0\\n', '0\\n', '0\\n', '1\\n', '1\\n', '1\\n', '0\\n', '1\\n', '0\\n', '0\\n', '0\\n', '0\\n', '1\\n', '0\\n', '1\\n', '0\\n', '1\\n', '1\\n', '0\\n', '0\\n', '0\\n', '1\\n', '0\\n', '1\\n', '0\\n', '0\\n', '0\\n', '0\\n', '0\\n', '0\\n', '0\\n', '1\\n', '1\\n', '1\\n', '0\\n', '0\\n', '0\\n', '0\\n', '1\\n', '0\\n', '0\\n', '1\\n', '1\\n', '0\\n', '0\\n', '0\\n', '0\\n', '1\\n', '0\\n', '1\\n', '1\\n', '0\\n', '0\\n', '0\\n', '0\\n', '0\\n', '1\\n', '0\\n', '0\\n', '1\\n', '1\\n', '1\\n', '0\\n', '0\\n', '0\\n', '0\\n', '0\\n', '0\\n', '0\\n', '1\\n', '0\\n', '0\\n', '0\\n', '0\\n', '1\\n', '1\\n', '1\\n', '0\\n', '0\\n', '0\\n', '1\\n', '0\\n', '0\\n', '0\\n', '0\\n', '0\\n', '0\\n', '0\\n', '0\\n', '0\\n', '0\\n', '1\\n', '1\\n', '1\\n', '0\\n', '0\\n', '0\\n', '0\\n', '1\\n', '0\\n', '0\\n', '0\\n', '0\\n', '0\\n', '1\\n', '0\\n', '0\\n', '0\\n', '0\\n', '0\\n', '1\\n', '0\\n', '0\\n', '0\\n', '1\\n', '0\\n', '0\\n', '1\\n', '0\\n', '0\\n', '0\\n', '0\\n', '0\\n', '0\\n', '1\\n', '0\\n', '1\\n', '0\\n', '1\\n', '0\\n', '1\\n', '0\\n', '1\\n', '0\\n', '0\\n', '0\\n', '0\\n', '1\\n', '1\\n', '1\\n', '0\\n', '0\\n', '0\\n', '0\\n', '0\\n', '0\\n', '0\\n', '0\\n', '1\\n', '0\\n', '0\\n', '0\\n', '0\\n', '1\\n', '0\\n', '0\\n', '1\\n', '0\\n', '0\\n', '0\\n', '0\\n', '0\\n', '0\\n', '1\\n', '1\\n', '1\\n', '1\\n', '0\\n', '0\\n', '0\\n', '0\\n', '0\\n', '0\\n', '1\\n', '1\\n', '0\\n', '0\\n', '0\\n', '0\\n', '0\\n', '1\\n', '1\\n', '0\\n', '0\\n', '0\\n', '0\\n', '0\\n', '1\\n', '0\\n', '0\\n', '1\\n', '0\\n', '1\\n', '0\\n', '0\\n', '0\\n', '1\\n', '1\\n', '0\\n', '1\\n', '1\\n', '1\\n', '0\\n', '0\\n', '1\\n', '0\\n', '1\\n', '0\\n', '0\\n', '0\\n', '1\\n', '0\\n', '0\\n', '0\\n', '0\\n', '0\\n', '1\\n', '0\\n', '0\\n', '1\\n', '0\\n', '0\\n', '0\\n', '0\\n', '1\\n', '0\\n', '0\\n', '0\\n', '0\\n', '0\\n', '0\\n', '0\\n', '0\\n', '0\\n', '1\\n', '0\\n', '0\\n', '0\\n', '0\\n', '0\\n', '0\\n', '0\\n', '1\\n', '0\\n', '1\\n', '0\\n', '0\\n', '0\\n', '0\\n', '0\\n', '0\\n', '0\\n', '0\\n', '1\\n', '1\\n', '0\\n', '0\\n', '0\\n', '1\\n', '1\\n', '1\\n', '0\\n', '0\\n', '0\\n', '0\\n', '0\\n', '1\\n', '0\\n', '0\\n', '0\\n', '0\\n', '1\\n', '1\\n', '1\\n', '0\\n', '0\\n', '1\\n', '0\\n', '0\\n', '0\\n', '0\\n', '0\\n', '0\\n', '0\\n', '0\\n', '0\\n', '1\\n', '0\\n', '0\\n', '0\\n', '1\\n', '1\\n', '0\\n', '0\\n', '0\\n', '0\\n', '0\\n', '1\\n', '1\\n', '1\\n', '0\\n', '1\\n', '1\\n', '0\\n', '0\\n', '0\\n', '0\\n', '0\\n', '1\\n', '0\\n', '0\\n', '1\\n', '0\\n', '0\\n', '0\\n', '1\\n', '1\\n', '0\\n', '1\\n', '0\\n', '0\\n', '1\\n', '0\\n', '0\\n', '1\\n', '0\\n', '0\\n', '0\\n', '1\\n', '0\\n', '1\\n', '0\\n', '1\\n', '0\\n', '0\\n', '0\\n', '0\\n', '0\\n', '1\\n', '1\\n', '0\\n', '0\\n', '0\\n', '0\\n', '0\\n', '1\\n', '1\\n', '0\\n', '1\\n', '0\\n', '1\\n', '0\\n', '0\\n', '0\\n', '1\\n', '0\\n', '0\\n', '0\\n', '0\\n', '1\\n', '0\\n', '0\\n', '0\\n', '0\\n', '0\\n', '1\\n', '0\\n', '0\\n', '0\\n', '0\\n', '1\\n', '0\\n', '1\\n', '0\\n', '1\\n', '0\\n', '1\\n', '0\\n', '1\\n', '1\\n', '1\\n', '1\\n', '0\\n', '0\\n', '1\\n', '0\\n', '0\\n', '0\\n', '0\\n', '0\\n', '1\\n', '0\\n', '0\\n', '1\\n', '1\\n', '0\\n', '0\\n', '0\\n', '1\\n', '0\\n', '1\\n', '0\\n', '0\\n', '0\\n', '0\\n', '1\\n', '1\\n', '1\\n', '0\\n', '1\\n', '0\\n', '0\\n', '0\\n', '1\\n', '0\\n', '1\\n', '0\\n', '0\\n', '1\\n', '1\\n', '0\\n', '0\\n', '1\\n', '0\\n', '0\\n', '0\\n', '1\\n', '0\\n', '0\\n', '1\\n', '1\\n', '0\\n', '1\\n', '0\\n', '1\\n', '1\\n', '1\\n', '0\\n', '0\\n', '0\\n', '0\\n', '1\\n', '0\\n', '1\\n', '0\\n', '0\\n', '1\\n', '0\\n', '0\\n', '1\\n', '0\\n', '0\\n', '0\\n', '0\\n', '1\\n', '1\\n', '0\\n', '1\\n', '0\\n', '0\\n', '0\\n', '0\\n', '0\\n', '1\\n', '1\\n', '1\\n', '0\\n', '1\\n', '1\\n', '1\\n', '0\\n', '0\\n', '1\\n', '0\\n', '0\\n', '0\\n', '1\\n', '0\\n', '1\\n', '0\\n', '1\\n', '1\\n', '0\\n', '1\\n', '0\\n', '0\\n', '1\\n', '0\\n', '0\\n', '1\\n', '0\\n', '1\\n', '0\\n', '0\\n', '1\\n', '0\\n', '0\\n', '1\\n', '0\\n', '1\\n', '1\\n', '1\\n', '0\\n', '0\\n', '0\\n', '1\\n', '0\\n', '0\\n', '0\\n', '1\\n', '0\\n', '0\\n', '1\\n', '1\\n', '0\\n', '1\\n', '0\\n', '0\\n', '0\\n', '1\\n', '1\\n', '1\\n', '0\\n', '1\\n', '0\\n', '0\\n', '0\\n', '0\\n', '1\\n', '1\\n', '1\\n', '1\\n', '0\\n', '1\\n', '0\\n', '0\\n', '0\\n', '0\\n', '0\\n', '0\\n', '0\\n', '1\\n', '0\\n', '0\\n', '0\\n', '0\\n', '1\\n', '0\\n', '1\\n', '0\\n', '0\\n', '1\\n', '1\\n', '0\\n', '0\\n', '1\\n', '1\\n', '1\\n', '0\\n', '0\\n', '1\\n', '0\\n', '1\\n', '0\\n', '0\\n', '0\\n', '1\\n', '1\\n', '0\\n', '0\\n', '0\\n', '1\\n', '1\\n', '1\\n', '0\\n', '1\\n', '0\\n', '0\\n', '1\\n', '0\\n', '1\\n', '0\\n', '0\\n', '0\\n', '0\\n', '1\\n', '0\\n', '0\\n', '1\\n', '1\\n', '1\\n', '1\\n', '0\\n', '1\\n', '0\\n', '0\\n', '0\\n', '0\\n', '1\\n', '0\\n', '0\\n', '0\\n', '0\\n', '0\\n', '0\\n', '1\\n', '0\\n', '1\\n', '0\\n', '0\\n', '0\\n', '1\\n', '0\\n', '0\\n', '1\\n', '0\\n', '1\\n', '0\\n', '0\\n', '0\\n', '0\\n', '0\\n', '0\\n', '0\\n', '0\\n', '0\\n', '0\\n', '0\\n', '1\\n', '0\\n', '1\\n', '0\\n', '1\\n', '0\\n', '0\\n', '1\\n', '0\\n', '1\\n', '1\\n', '1\\n', '0\\n', '0\\n', '1\\n', '0\\n', '0\\n', '1\\n', '0\\n', '1\\n', '1\\n', '1\\n', '0\\n', '0\\n', '0\\n', '1\\n', '0\\n', '0\\n', '0\\n', '1\\n', '0\\n', '0\\n', '0\\n', '1\\n', '1\\n', '1\\n', '0\\n', '0\\n', '1\\n', '1\\n', '1\\n', '0\\n', '0\\n', '1\\n', '0\\n', '0\\n', '0\\n', '0\\n', '0\\n', '1\\n', '1\\n', '1\\n', '1\\n', '0\\n', '0\\n', '0\\n', '0\\n', '1\\n', '0\\n', '0\\n', '0\\n', '0\\n', '0\\n', '0\\n', '0\\n', '0\\n', '0\\n', '0\\n', '1\\n', '0\\n', '0\\n', '1\\n', '0\\n', '1\\n', '0\\n', '0\\n', '0\\n', '0\\n', '1\\n', '0\\n', '0\\n', '1\\n', '0\\n', '0\\n', '1\\n', '0\\n', '0\\n', '0\\n', '0\\n', '1\\n', '0\\n', '0\\n', '0\\n', '0\\n', '0\\n', '0\\n', '1\\n', '0\\n', '1\\n', '1\\n', '1\\n', '1\\n', '0\\n', '0\\n', '1\\n', '0\\n', '0\\n', '0\\n', '1\\n', '0\\n', '1\\n', '0\\n', '0\\n', '0\\n', '1\\n', '0\\n', '0\\n', '1\\n', '0\\n', '1\\n', '0\\n', '1\\n', '1\\n', '1\\n', '0\\n', '0\\n', '1\\n', '1\\n', '0\\n', '0\\n', '1\\n', '1\\n', '0\\n', '1\\n', '0\\n', '0\\n', '1\\n', '0\\n', '0\\n', '0\\n', '1\\n', '0\\n', '0\\n', '0\\n', '0\\n', '0\\n', '1\\n', '0\\n', '0\\n', '0\\n', '0\\n', '0\\n', '0\\n', '1\\n', '1\\n', '0\\n', '0\\n', '0\\n', '1\\n', '0\\n', '0\\n', '0\\n', '0\\n', '1\\n', '1\\n', '0\\n', '1\\n', '0\\n', '1\\n', '1\\n', '1\\n', '0\\n', '0\\n', '1\\n', '0\\n', '0\\n', '1\\n', '0\\n', '0\\n', '1\\n', '0\\n', '0\\n', '1\\n', '1\\n', '1\\n', '0\\n', '0\\n', '1\\n', '0\\n', '1\\n', '1\\n', '0\\n', '0\\n', '1\\n', '0\\n', '0\\n', '1\\n', '1\\n', '0\\n', '1\\n', '1\\n', '1\\n', '1\\n', '1\\n', '0\\n', '0\\n', '0\\n', '0\\n', '1\\n', '0\\n', '0\\n', '0\\n', '1\\n', '1\\n', '0\\n', '1\\n', '1\\n', '1\\n', '1\\n', '1\\n', '0\\n', '1\\n', '0\\n', '1\\n', '0\\n', '1\\n', '0\\n', '0\\n', '0\\n', '1\\n', '0\\n', '1\\n', '0\\n', '0\\n', '1\\n', '0\\n', '0\\n', '0\\n', '0\\n', '1\\n', '1\\n', '1\\n', '1\\n', '0\\n', '0\\n', '1\\n', '0\\n', '1\\n', '1\\n', '0\\n', '1\\n', '0\\n', '0\\n', '0\\n', '1\\n', '0\\n', '1\\n', '0\\n', '1\\n', '1\\n', '0\\n', '0\\n', '1\\n', '0\\n', '0\\n', '1\\n', '0\\n', '1\\n', '0\\n', '0\\n', '0\\n', '0\\n', '0\\n', '1\\n', '1\\n', '0\\n', '0\\n', '0\\n', '0\\n', '1\\n', '0\\n', '1\\n', '0\\n', '0\\n', '0\\n', '1\\n', '0\\n']\n"
          ],
          "name": "stdout"
        }
      ]
    },
    {
      "cell_type": "code",
      "metadata": {
        "colab": {
          "base_uri": "https://localhost:8080/"
        },
        "id": "drlwunPA7XUE",
        "outputId": "f435e735-d3e4-444a-8d99-26cf037b5c51"
      },
      "source": [
        "stream2=open(\"val_text.txt\")\r\n",
        "val_text=stream2.readlines()\r\n",
        "stream2.close()\r\n",
        "print(val_text[1])"
      ],
      "execution_count": 67,
      "outputs": [
        {
          "output_type": "stream",
          "text": [
            "@user @user @user If he is from AZ I would put my money on sex with underage kids. \n",
            "\n"
          ],
          "name": "stdout"
        }
      ]
    },
    {
      "cell_type": "code",
      "metadata": {
        "colab": {
          "base_uri": "https://localhost:8080/"
        },
        "id": "IrBi-6sW7ZBz",
        "outputId": "62a69336-e054-45dc-cd9c-9f91499ca233"
      },
      "source": [
        "tweet_preprocess=[]\r\n",
        "\r\n",
        "for i in range(0,len(tweets)):\r\n",
        "  print(tweets[i])\r\n",
        " # tweets.append(preprocess(tweets[i]))\r\n",
        "  tweet_preprocess.append(preprocess(tweets[i]))\r\n",
        "  if i==10:\r\n",
        "    break\r\n",
        "\r\n",
        "print(tweet_preprocess[0])"
      ],
      "execution_count": 68,
      "outputs": [
        {
          "output_type": "stream",
          "text": [
            "#ibelieveblaseyford is liar she is fat ugly libreal #snowflake she sold her  herself to get some cash !! From dems and Iran  ! Why she spoke after  #JohnKerryIranMeeting ? \n",
            "\n",
            "@user @user @user I got in a pretty deep debate with my friend and she told me that latinos for Trump and blacks for Trump were paid supporters 😂 then I said you mean antifa are paid domestic terrorist and she said No they are  anti-fascist then I said they are the fascist are you kidding me?! \n",
            "\n",
            "...if you want more shootings and more death, then listen to the ACLU, Black Lives Matter, or Antifa. If you want public safety, then listen to the police professionals who have been studying this for 35 years.\"\" -AG Jeff Sessions  \n",
            "\n",
            "Angels now have 6 runs. Five of them have come courtesy Mike Trout homers. Trout connects on a 3-2 pitch with runners on second and third \n",
            "\n",
            "#Travel #Movies and Unix #Fortune combined  Visit #Salisbury, see the sights, but wherever you go there you are, the same old you, why not travel as an international spy? Find yourself at the centre of a vast international conspiracy when you return home.   Recall Recall Recall. \n",
            "\n",
            "#naturephotography. #nature. #birds #wild in #Wisconsin #photography. #picoftheday. #pics #fridaymotivation. #fridayfeeling. #instagramers. I hope you are having an #amazing day \n",
            "\n",
            "#i2 This speaks for itself (NSFW) \n",
            "\n",
            "#WomenWednesday: Meet multiple-award-winning designer @user BFA 82. She is the in-demand @user grad is behind @user recent redesign:    Lacava, centre, is pictured with classmates at #Concordia in 1981. #CUalumni \n",
            "\n",
            ". a grown ass woman, probably 10 years older than me is currently spreading rumors rather than talking to me about it, nice work you got there satan ❤️ \n",
            "\n",
            "#RAP is a form of ART! Used to express yourself freely. It does not gv the green light or excuse the behavior of acting like an animal! She is not in the streets of the BX where violence is a way of living. Elevate yourself boo and get on @user level for longevity! #QUEEN👑 \n",
            "\n",
            "#Kavanaugh is a disciple of Anthony Kennedy, who 🎁ed liberals w/3 unconstitutional opinions! He's Trump's con to con conservatives to 🤔ing #SCOTUS is moving right! Were @user smart, they'd do everything to get BK the 🏁. But they won't! Idiots! #TuesdayThoughts \n",
            "\n",
            "#ibelieveblaseyford is liar she is fat ugly libreal #snowflake she sold her  herself to get some cash !! From dems and Iran  ! Why she spoke after  #JohnKerryIranMeeting ? \n",
            "\n"
          ],
          "name": "stdout"
        }
      ]
    },
    {
      "cell_type": "code",
      "metadata": {
        "colab": {
          "base_uri": "https://localhost:8080/",
          "height": 286,
          "referenced_widgets": [
            "d8d545473a66409596df69db3ceb6798",
            "9d43cb15b48c48b38282009e2d74734e",
            "7bdb1dc9c97f41aa8a89586738922c5f",
            "4421e445a27b43b08d129114e7cf37a6",
            "15cd599f6c544db1ad112c5d4d23f245",
            "ec923f5882874b679326c44dbd458bcf",
            "ddfb77e57c69416e991688b6ecbeb4e5",
            "316c0b2c9f0e4c239d87c44382a15479"
          ]
        },
        "id": "L2kif6Go7bP9",
        "outputId": "0b25edb4-c444-4325-f9b4-24ead40d2cc9"
      },
      "source": [
        "result=[]\r\n",
        "for i in  range(0,len(tweet_preprocess)):\r\n",
        "  result.append(model(tweet_preprocess[i]))\r\n",
        "  if i==2:\r\n",
        "    break\r\n",
        " \r\n",
        "#print(result)"
      ],
      "execution_count": 71,
      "outputs": [
        {
          "output_type": "display_data",
          "data": {
            "application/vnd.jupyter.widget-view+json": {
              "model_id": "d8d545473a66409596df69db3ceb6798",
              "version_minor": 0,
              "version_major": 2
            },
            "text/plain": [
              "HBox(children=(FloatProgress(value=0.0, description='Downloading', max=501227432.0, style=ProgressStyle(descri…"
            ]
          },
          "metadata": {
            "tags": []
          }
        },
        {
          "output_type": "stream",
          "text": [
            "\n"
          ],
          "name": "stdout"
        },
        {
          "output_type": "stream",
          "text": [
            "All model checkpoint layers were used when initializing TFRobertaForSequenceClassification.\n",
            "\n",
            "All the layers of TFRobertaForSequenceClassification were initialized from the model checkpoint at cardiffnlp/twitter-roberta-base-offensive.\n",
            "If your task is similar to the task the model of the checkpoint was trained on, you can already use TFRobertaForSequenceClassification for predictions without further training.\n",
            "All model checkpoint layers were used when initializing TFRobertaForSequenceClassification.\n",
            "\n",
            "All the layers of TFRobertaForSequenceClassification were initialized from the model checkpoint at cardiffnlp/twitter-roberta-base-offensive.\n",
            "If your task is similar to the task the model of the checkpoint was trained on, you can already use TFRobertaForSequenceClassification for predictions without further training.\n",
            "All model checkpoint layers were used when initializing TFRobertaForSequenceClassification.\n",
            "\n",
            "All the layers of TFRobertaForSequenceClassification were initialized from the model checkpoint at cardiffnlp/twitter-roberta-base-offensive.\n",
            "If your task is similar to the task the model of the checkpoint was trained on, you can already use TFRobertaForSequenceClassification for predictions without further training.\n"
          ],
          "name": "stderr"
        }
      ]
    },
    {
      "cell_type": "code",
      "metadata": {
        "colab": {
          "base_uri": "https://localhost:8080/"
        },
        "id": "JM5UsGu-7dhm",
        "outputId": "7cfaadb9-837b-4c4b-d17e-7113e03a64da"
      },
      "source": [
        "print(result)\r\n"
      ],
      "execution_count": 72,
      "outputs": [
        {
          "output_type": "stream",
          "text": [
            "[['1) offensive 0.8565', '2) not-offensive 0.1435'], ['1) offensive 0.6361', '2) not-offensive 0.3639'], ['1) not-offensive 0.5918', '2) offensive 0.4082']]\n"
          ],
          "name": "stdout"
        }
      ]
    },
    {
      "cell_type": "code",
      "metadata": {
        "id": "nba_edR_-3jx"
      },
      "source": [
        ""
      ],
      "execution_count": null,
      "outputs": []
    },
    {
      "cell_type": "code",
      "metadata": {
        "id": "9MCpTYga7gMQ"
      },
      "source": [
        "def model(tweets):\r\n",
        "\r\n",
        " model = TFAutoModelForSequenceClassification.from_pretrained(MODEL)\r\n",
        "\r\n",
        " text = tweets\r\n",
        " encoded_input = tokenizer(text, return_tensors='tf')\r\n",
        " output = model(encoded_input)\r\n",
        " scores = output[0][0].numpy()\r\n",
        " scores = softmax(scores)\r\n",
        "\r\n",
        " temp_list=[]\r\n",
        " ranking = np.argsort(scores)\r\n",
        " ranking = ranking[::-1]\r\n",
        " for i in range(scores.shape[0]):\r\n",
        "    l = labels[ranking[i]]\r\n",
        "    s = scores[ranking[i]]\r\n",
        "    temp_list.append(f\"{i+1}) {l} {np.round(float(s), 4)}\")\r\n",
        " return temp_list"
      ],
      "execution_count": 69,
      "outputs": []
    },
    {
      "cell_type": "code",
      "metadata": {
        "id": "YiIZ-Oe07iRR"
      },
      "source": [
        ""
      ],
      "execution_count": 72,
      "outputs": []
    }
  ]
}