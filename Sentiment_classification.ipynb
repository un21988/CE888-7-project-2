{
  "nbformat": 4,
  "nbformat_minor": 0,
  "metadata": {
    "colab": {
      "name": "Sentiment_classification.ipynb",
      "provenance": [],
      "collapsed_sections": [],
      "authorship_tag": "ABX9TyMnYnWia3i6tYnD3mB0SSfM",
      "include_colab_link": true
    },
    "kernelspec": {
      "name": "python3",
      "display_name": "Python 3"
    },
    "widgets": {
      "application/vnd.jupyter.widget-state+json": {
        "2694306c66f7495c876657406ea913ce": {
          "model_module": "@jupyter-widgets/controls",
          "model_name": "HBoxModel",
          "state": {
            "_view_name": "HBoxView",
            "_dom_classes": [],
            "_model_name": "HBoxModel",
            "_view_module": "@jupyter-widgets/controls",
            "_model_module_version": "1.5.0",
            "_view_count": null,
            "_view_module_version": "1.5.0",
            "box_style": "",
            "layout": "IPY_MODEL_2563a257ce7a452aba30a68def238e00",
            "_model_module": "@jupyter-widgets/controls",
            "children": [
              "IPY_MODEL_21dfa4a8d55845e0ac077348a5356e3b",
              "IPY_MODEL_0cbbece7e1b14ba3a0a28de889384f04"
            ]
          }
        },
        "2563a257ce7a452aba30a68def238e00": {
          "model_module": "@jupyter-widgets/base",
          "model_name": "LayoutModel",
          "state": {
            "_view_name": "LayoutView",
            "grid_template_rows": null,
            "right": null,
            "justify_content": null,
            "_view_module": "@jupyter-widgets/base",
            "overflow": null,
            "_model_module_version": "1.2.0",
            "_view_count": null,
            "flex_flow": null,
            "width": null,
            "min_width": null,
            "border": null,
            "align_items": null,
            "bottom": null,
            "_model_module": "@jupyter-widgets/base",
            "top": null,
            "grid_column": null,
            "overflow_y": null,
            "overflow_x": null,
            "grid_auto_flow": null,
            "grid_area": null,
            "grid_template_columns": null,
            "flex": null,
            "_model_name": "LayoutModel",
            "justify_items": null,
            "grid_row": null,
            "max_height": null,
            "align_content": null,
            "visibility": null,
            "align_self": null,
            "height": null,
            "min_height": null,
            "padding": null,
            "grid_auto_rows": null,
            "grid_gap": null,
            "max_width": null,
            "order": null,
            "_view_module_version": "1.2.0",
            "grid_template_areas": null,
            "object_position": null,
            "object_fit": null,
            "grid_auto_columns": null,
            "margin": null,
            "display": null,
            "left": null
          }
        },
        "21dfa4a8d55845e0ac077348a5356e3b": {
          "model_module": "@jupyter-widgets/controls",
          "model_name": "FloatProgressModel",
          "state": {
            "_view_name": "ProgressView",
            "style": "IPY_MODEL_e989caefa58f41e585ead772e4171d92",
            "_dom_classes": [],
            "description": "Downloading: 100%",
            "_model_name": "FloatProgressModel",
            "bar_style": "success",
            "max": 747,
            "_view_module": "@jupyter-widgets/controls",
            "_model_module_version": "1.5.0",
            "value": 747,
            "_view_count": null,
            "_view_module_version": "1.5.0",
            "orientation": "horizontal",
            "min": 0,
            "description_tooltip": null,
            "_model_module": "@jupyter-widgets/controls",
            "layout": "IPY_MODEL_3a96489acd0c44ce85b3c1865b908cf6"
          }
        },
        "0cbbece7e1b14ba3a0a28de889384f04": {
          "model_module": "@jupyter-widgets/controls",
          "model_name": "HTMLModel",
          "state": {
            "_view_name": "HTMLView",
            "style": "IPY_MODEL_cc3f392e6fac423082891af145ab08f9",
            "_dom_classes": [],
            "description": "",
            "_model_name": "HTMLModel",
            "placeholder": "​",
            "_view_module": "@jupyter-widgets/controls",
            "_model_module_version": "1.5.0",
            "value": " 747/747 [00:00&lt;00:00, 2.72kB/s]",
            "_view_count": null,
            "_view_module_version": "1.5.0",
            "description_tooltip": null,
            "_model_module": "@jupyter-widgets/controls",
            "layout": "IPY_MODEL_ebde01b652ac436bab814cd4dc96fd17"
          }
        },
        "e989caefa58f41e585ead772e4171d92": {
          "model_module": "@jupyter-widgets/controls",
          "model_name": "ProgressStyleModel",
          "state": {
            "_view_name": "StyleView",
            "_model_name": "ProgressStyleModel",
            "description_width": "initial",
            "_view_module": "@jupyter-widgets/base",
            "_model_module_version": "1.5.0",
            "_view_count": null,
            "_view_module_version": "1.2.0",
            "bar_color": null,
            "_model_module": "@jupyter-widgets/controls"
          }
        },
        "3a96489acd0c44ce85b3c1865b908cf6": {
          "model_module": "@jupyter-widgets/base",
          "model_name": "LayoutModel",
          "state": {
            "_view_name": "LayoutView",
            "grid_template_rows": null,
            "right": null,
            "justify_content": null,
            "_view_module": "@jupyter-widgets/base",
            "overflow": null,
            "_model_module_version": "1.2.0",
            "_view_count": null,
            "flex_flow": null,
            "width": null,
            "min_width": null,
            "border": null,
            "align_items": null,
            "bottom": null,
            "_model_module": "@jupyter-widgets/base",
            "top": null,
            "grid_column": null,
            "overflow_y": null,
            "overflow_x": null,
            "grid_auto_flow": null,
            "grid_area": null,
            "grid_template_columns": null,
            "flex": null,
            "_model_name": "LayoutModel",
            "justify_items": null,
            "grid_row": null,
            "max_height": null,
            "align_content": null,
            "visibility": null,
            "align_self": null,
            "height": null,
            "min_height": null,
            "padding": null,
            "grid_auto_rows": null,
            "grid_gap": null,
            "max_width": null,
            "order": null,
            "_view_module_version": "1.2.0",
            "grid_template_areas": null,
            "object_position": null,
            "object_fit": null,
            "grid_auto_columns": null,
            "margin": null,
            "display": null,
            "left": null
          }
        },
        "cc3f392e6fac423082891af145ab08f9": {
          "model_module": "@jupyter-widgets/controls",
          "model_name": "DescriptionStyleModel",
          "state": {
            "_view_name": "StyleView",
            "_model_name": "DescriptionStyleModel",
            "description_width": "",
            "_view_module": "@jupyter-widgets/base",
            "_model_module_version": "1.5.0",
            "_view_count": null,
            "_view_module_version": "1.2.0",
            "_model_module": "@jupyter-widgets/controls"
          }
        },
        "ebde01b652ac436bab814cd4dc96fd17": {
          "model_module": "@jupyter-widgets/base",
          "model_name": "LayoutModel",
          "state": {
            "_view_name": "LayoutView",
            "grid_template_rows": null,
            "right": null,
            "justify_content": null,
            "_view_module": "@jupyter-widgets/base",
            "overflow": null,
            "_model_module_version": "1.2.0",
            "_view_count": null,
            "flex_flow": null,
            "width": null,
            "min_width": null,
            "border": null,
            "align_items": null,
            "bottom": null,
            "_model_module": "@jupyter-widgets/base",
            "top": null,
            "grid_column": null,
            "overflow_y": null,
            "overflow_x": null,
            "grid_auto_flow": null,
            "grid_area": null,
            "grid_template_columns": null,
            "flex": null,
            "_model_name": "LayoutModel",
            "justify_items": null,
            "grid_row": null,
            "max_height": null,
            "align_content": null,
            "visibility": null,
            "align_self": null,
            "height": null,
            "min_height": null,
            "padding": null,
            "grid_auto_rows": null,
            "grid_gap": null,
            "max_width": null,
            "order": null,
            "_view_module_version": "1.2.0",
            "grid_template_areas": null,
            "object_position": null,
            "object_fit": null,
            "grid_auto_columns": null,
            "margin": null,
            "display": null,
            "left": null
          }
        },
        "92d055f37e83426cb1c7cd3619128e24": {
          "model_module": "@jupyter-widgets/controls",
          "model_name": "HBoxModel",
          "state": {
            "_view_name": "HBoxView",
            "_dom_classes": [],
            "_model_name": "HBoxModel",
            "_view_module": "@jupyter-widgets/controls",
            "_model_module_version": "1.5.0",
            "_view_count": null,
            "_view_module_version": "1.5.0",
            "box_style": "",
            "layout": "IPY_MODEL_7108955fe3d345269ff51848dd593c11",
            "_model_module": "@jupyter-widgets/controls",
            "children": [
              "IPY_MODEL_fbbe84efe73e4fb99d500f683fb5169b",
              "IPY_MODEL_1eb4983e37734bda8bc717410858e043"
            ]
          }
        },
        "7108955fe3d345269ff51848dd593c11": {
          "model_module": "@jupyter-widgets/base",
          "model_name": "LayoutModel",
          "state": {
            "_view_name": "LayoutView",
            "grid_template_rows": null,
            "right": null,
            "justify_content": null,
            "_view_module": "@jupyter-widgets/base",
            "overflow": null,
            "_model_module_version": "1.2.0",
            "_view_count": null,
            "flex_flow": null,
            "width": null,
            "min_width": null,
            "border": null,
            "align_items": null,
            "bottom": null,
            "_model_module": "@jupyter-widgets/base",
            "top": null,
            "grid_column": null,
            "overflow_y": null,
            "overflow_x": null,
            "grid_auto_flow": null,
            "grid_area": null,
            "grid_template_columns": null,
            "flex": null,
            "_model_name": "LayoutModel",
            "justify_items": null,
            "grid_row": null,
            "max_height": null,
            "align_content": null,
            "visibility": null,
            "align_self": null,
            "height": null,
            "min_height": null,
            "padding": null,
            "grid_auto_rows": null,
            "grid_gap": null,
            "max_width": null,
            "order": null,
            "_view_module_version": "1.2.0",
            "grid_template_areas": null,
            "object_position": null,
            "object_fit": null,
            "grid_auto_columns": null,
            "margin": null,
            "display": null,
            "left": null
          }
        },
        "fbbe84efe73e4fb99d500f683fb5169b": {
          "model_module": "@jupyter-widgets/controls",
          "model_name": "FloatProgressModel",
          "state": {
            "_view_name": "ProgressView",
            "style": "IPY_MODEL_83ecc54cb3ad466c8abd3635d1562f28",
            "_dom_classes": [],
            "description": "Downloading: 100%",
            "_model_name": "FloatProgressModel",
            "bar_style": "success",
            "max": 898822,
            "_view_module": "@jupyter-widgets/controls",
            "_model_module_version": "1.5.0",
            "value": 898822,
            "_view_count": null,
            "_view_module_version": "1.5.0",
            "orientation": "horizontal",
            "min": 0,
            "description_tooltip": null,
            "_model_module": "@jupyter-widgets/controls",
            "layout": "IPY_MODEL_88cb579cb0c0438f9f55a59b8629bb67"
          }
        },
        "1eb4983e37734bda8bc717410858e043": {
          "model_module": "@jupyter-widgets/controls",
          "model_name": "HTMLModel",
          "state": {
            "_view_name": "HTMLView",
            "style": "IPY_MODEL_54a65d15008c423b9cbaed4461cb2008",
            "_dom_classes": [],
            "description": "",
            "_model_name": "HTMLModel",
            "placeholder": "​",
            "_view_module": "@jupyter-widgets/controls",
            "_model_module_version": "1.5.0",
            "value": " 899k/899k [00:00&lt;00:00, 1.28MB/s]",
            "_view_count": null,
            "_view_module_version": "1.5.0",
            "description_tooltip": null,
            "_model_module": "@jupyter-widgets/controls",
            "layout": "IPY_MODEL_49d7c0f98a3547eeba7e46e856c1e4ba"
          }
        },
        "83ecc54cb3ad466c8abd3635d1562f28": {
          "model_module": "@jupyter-widgets/controls",
          "model_name": "ProgressStyleModel",
          "state": {
            "_view_name": "StyleView",
            "_model_name": "ProgressStyleModel",
            "description_width": "initial",
            "_view_module": "@jupyter-widgets/base",
            "_model_module_version": "1.5.0",
            "_view_count": null,
            "_view_module_version": "1.2.0",
            "bar_color": null,
            "_model_module": "@jupyter-widgets/controls"
          }
        },
        "88cb579cb0c0438f9f55a59b8629bb67": {
          "model_module": "@jupyter-widgets/base",
          "model_name": "LayoutModel",
          "state": {
            "_view_name": "LayoutView",
            "grid_template_rows": null,
            "right": null,
            "justify_content": null,
            "_view_module": "@jupyter-widgets/base",
            "overflow": null,
            "_model_module_version": "1.2.0",
            "_view_count": null,
            "flex_flow": null,
            "width": null,
            "min_width": null,
            "border": null,
            "align_items": null,
            "bottom": null,
            "_model_module": "@jupyter-widgets/base",
            "top": null,
            "grid_column": null,
            "overflow_y": null,
            "overflow_x": null,
            "grid_auto_flow": null,
            "grid_area": null,
            "grid_template_columns": null,
            "flex": null,
            "_model_name": "LayoutModel",
            "justify_items": null,
            "grid_row": null,
            "max_height": null,
            "align_content": null,
            "visibility": null,
            "align_self": null,
            "height": null,
            "min_height": null,
            "padding": null,
            "grid_auto_rows": null,
            "grid_gap": null,
            "max_width": null,
            "order": null,
            "_view_module_version": "1.2.0",
            "grid_template_areas": null,
            "object_position": null,
            "object_fit": null,
            "grid_auto_columns": null,
            "margin": null,
            "display": null,
            "left": null
          }
        },
        "54a65d15008c423b9cbaed4461cb2008": {
          "model_module": "@jupyter-widgets/controls",
          "model_name": "DescriptionStyleModel",
          "state": {
            "_view_name": "StyleView",
            "_model_name": "DescriptionStyleModel",
            "description_width": "",
            "_view_module": "@jupyter-widgets/base",
            "_model_module_version": "1.5.0",
            "_view_count": null,
            "_view_module_version": "1.2.0",
            "_model_module": "@jupyter-widgets/controls"
          }
        },
        "49d7c0f98a3547eeba7e46e856c1e4ba": {
          "model_module": "@jupyter-widgets/base",
          "model_name": "LayoutModel",
          "state": {
            "_view_name": "LayoutView",
            "grid_template_rows": null,
            "right": null,
            "justify_content": null,
            "_view_module": "@jupyter-widgets/base",
            "overflow": null,
            "_model_module_version": "1.2.0",
            "_view_count": null,
            "flex_flow": null,
            "width": null,
            "min_width": null,
            "border": null,
            "align_items": null,
            "bottom": null,
            "_model_module": "@jupyter-widgets/base",
            "top": null,
            "grid_column": null,
            "overflow_y": null,
            "overflow_x": null,
            "grid_auto_flow": null,
            "grid_area": null,
            "grid_template_columns": null,
            "flex": null,
            "_model_name": "LayoutModel",
            "justify_items": null,
            "grid_row": null,
            "max_height": null,
            "align_content": null,
            "visibility": null,
            "align_self": null,
            "height": null,
            "min_height": null,
            "padding": null,
            "grid_auto_rows": null,
            "grid_gap": null,
            "max_width": null,
            "order": null,
            "_view_module_version": "1.2.0",
            "grid_template_areas": null,
            "object_position": null,
            "object_fit": null,
            "grid_auto_columns": null,
            "margin": null,
            "display": null,
            "left": null
          }
        },
        "23d9828589ff4f7992a6d6ce69d1641d": {
          "model_module": "@jupyter-widgets/controls",
          "model_name": "HBoxModel",
          "state": {
            "_view_name": "HBoxView",
            "_dom_classes": [],
            "_model_name": "HBoxModel",
            "_view_module": "@jupyter-widgets/controls",
            "_model_module_version": "1.5.0",
            "_view_count": null,
            "_view_module_version": "1.5.0",
            "box_style": "",
            "layout": "IPY_MODEL_03b0327cf5a946d8839af9b2f092e117",
            "_model_module": "@jupyter-widgets/controls",
            "children": [
              "IPY_MODEL_ae2e20609f754f1799ad3e97549cd818",
              "IPY_MODEL_d2eb694c0cc748b2aa397f6c9cf63589"
            ]
          }
        },
        "03b0327cf5a946d8839af9b2f092e117": {
          "model_module": "@jupyter-widgets/base",
          "model_name": "LayoutModel",
          "state": {
            "_view_name": "LayoutView",
            "grid_template_rows": null,
            "right": null,
            "justify_content": null,
            "_view_module": "@jupyter-widgets/base",
            "overflow": null,
            "_model_module_version": "1.2.0",
            "_view_count": null,
            "flex_flow": null,
            "width": null,
            "min_width": null,
            "border": null,
            "align_items": null,
            "bottom": null,
            "_model_module": "@jupyter-widgets/base",
            "top": null,
            "grid_column": null,
            "overflow_y": null,
            "overflow_x": null,
            "grid_auto_flow": null,
            "grid_area": null,
            "grid_template_columns": null,
            "flex": null,
            "_model_name": "LayoutModel",
            "justify_items": null,
            "grid_row": null,
            "max_height": null,
            "align_content": null,
            "visibility": null,
            "align_self": null,
            "height": null,
            "min_height": null,
            "padding": null,
            "grid_auto_rows": null,
            "grid_gap": null,
            "max_width": null,
            "order": null,
            "_view_module_version": "1.2.0",
            "grid_template_areas": null,
            "object_position": null,
            "object_fit": null,
            "grid_auto_columns": null,
            "margin": null,
            "display": null,
            "left": null
          }
        },
        "ae2e20609f754f1799ad3e97549cd818": {
          "model_module": "@jupyter-widgets/controls",
          "model_name": "FloatProgressModel",
          "state": {
            "_view_name": "ProgressView",
            "style": "IPY_MODEL_5940654186e645dab010798698c9c073",
            "_dom_classes": [],
            "description": "Downloading: 100%",
            "_model_name": "FloatProgressModel",
            "bar_style": "success",
            "max": 456318,
            "_view_module": "@jupyter-widgets/controls",
            "_model_module_version": "1.5.0",
            "value": 456318,
            "_view_count": null,
            "_view_module_version": "1.5.0",
            "orientation": "horizontal",
            "min": 0,
            "description_tooltip": null,
            "_model_module": "@jupyter-widgets/controls",
            "layout": "IPY_MODEL_1b38aad2c1aa4a14bf3ac78eb63ab2e9"
          }
        },
        "d2eb694c0cc748b2aa397f6c9cf63589": {
          "model_module": "@jupyter-widgets/controls",
          "model_name": "HTMLModel",
          "state": {
            "_view_name": "HTMLView",
            "style": "IPY_MODEL_4eb0ba01a9d84b7e9e3847e9b749fb57",
            "_dom_classes": [],
            "description": "",
            "_model_name": "HTMLModel",
            "placeholder": "​",
            "_view_module": "@jupyter-widgets/controls",
            "_model_module_version": "1.5.0",
            "value": " 456k/456k [00:00&lt;00:00, 957kB/s]",
            "_view_count": null,
            "_view_module_version": "1.5.0",
            "description_tooltip": null,
            "_model_module": "@jupyter-widgets/controls",
            "layout": "IPY_MODEL_3e102854f03c458f8b3b57000705020d"
          }
        },
        "5940654186e645dab010798698c9c073": {
          "model_module": "@jupyter-widgets/controls",
          "model_name": "ProgressStyleModel",
          "state": {
            "_view_name": "StyleView",
            "_model_name": "ProgressStyleModel",
            "description_width": "initial",
            "_view_module": "@jupyter-widgets/base",
            "_model_module_version": "1.5.0",
            "_view_count": null,
            "_view_module_version": "1.2.0",
            "bar_color": null,
            "_model_module": "@jupyter-widgets/controls"
          }
        },
        "1b38aad2c1aa4a14bf3ac78eb63ab2e9": {
          "model_module": "@jupyter-widgets/base",
          "model_name": "LayoutModel",
          "state": {
            "_view_name": "LayoutView",
            "grid_template_rows": null,
            "right": null,
            "justify_content": null,
            "_view_module": "@jupyter-widgets/base",
            "overflow": null,
            "_model_module_version": "1.2.0",
            "_view_count": null,
            "flex_flow": null,
            "width": null,
            "min_width": null,
            "border": null,
            "align_items": null,
            "bottom": null,
            "_model_module": "@jupyter-widgets/base",
            "top": null,
            "grid_column": null,
            "overflow_y": null,
            "overflow_x": null,
            "grid_auto_flow": null,
            "grid_area": null,
            "grid_template_columns": null,
            "flex": null,
            "_model_name": "LayoutModel",
            "justify_items": null,
            "grid_row": null,
            "max_height": null,
            "align_content": null,
            "visibility": null,
            "align_self": null,
            "height": null,
            "min_height": null,
            "padding": null,
            "grid_auto_rows": null,
            "grid_gap": null,
            "max_width": null,
            "order": null,
            "_view_module_version": "1.2.0",
            "grid_template_areas": null,
            "object_position": null,
            "object_fit": null,
            "grid_auto_columns": null,
            "margin": null,
            "display": null,
            "left": null
          }
        },
        "4eb0ba01a9d84b7e9e3847e9b749fb57": {
          "model_module": "@jupyter-widgets/controls",
          "model_name": "DescriptionStyleModel",
          "state": {
            "_view_name": "StyleView",
            "_model_name": "DescriptionStyleModel",
            "description_width": "",
            "_view_module": "@jupyter-widgets/base",
            "_model_module_version": "1.5.0",
            "_view_count": null,
            "_view_module_version": "1.2.0",
            "_model_module": "@jupyter-widgets/controls"
          }
        },
        "3e102854f03c458f8b3b57000705020d": {
          "model_module": "@jupyter-widgets/base",
          "model_name": "LayoutModel",
          "state": {
            "_view_name": "LayoutView",
            "grid_template_rows": null,
            "right": null,
            "justify_content": null,
            "_view_module": "@jupyter-widgets/base",
            "overflow": null,
            "_model_module_version": "1.2.0",
            "_view_count": null,
            "flex_flow": null,
            "width": null,
            "min_width": null,
            "border": null,
            "align_items": null,
            "bottom": null,
            "_model_module": "@jupyter-widgets/base",
            "top": null,
            "grid_column": null,
            "overflow_y": null,
            "overflow_x": null,
            "grid_auto_flow": null,
            "grid_area": null,
            "grid_template_columns": null,
            "flex": null,
            "_model_name": "LayoutModel",
            "justify_items": null,
            "grid_row": null,
            "max_height": null,
            "align_content": null,
            "visibility": null,
            "align_self": null,
            "height": null,
            "min_height": null,
            "padding": null,
            "grid_auto_rows": null,
            "grid_gap": null,
            "max_width": null,
            "order": null,
            "_view_module_version": "1.2.0",
            "grid_template_areas": null,
            "object_position": null,
            "object_fit": null,
            "grid_auto_columns": null,
            "margin": null,
            "display": null,
            "left": null
          }
        },
        "ad183ed3be384d51ace7e74b186c7278": {
          "model_module": "@jupyter-widgets/controls",
          "model_name": "HBoxModel",
          "state": {
            "_view_name": "HBoxView",
            "_dom_classes": [],
            "_model_name": "HBoxModel",
            "_view_module": "@jupyter-widgets/controls",
            "_model_module_version": "1.5.0",
            "_view_count": null,
            "_view_module_version": "1.5.0",
            "box_style": "",
            "layout": "IPY_MODEL_10095a150a9e4137bad6fbe257b869d4",
            "_model_module": "@jupyter-widgets/controls",
            "children": [
              "IPY_MODEL_0fcacee94fe64aadbb0ff01280152452",
              "IPY_MODEL_5ace4b11dbd3418f9d389f2cb0119af2"
            ]
          }
        },
        "10095a150a9e4137bad6fbe257b869d4": {
          "model_module": "@jupyter-widgets/base",
          "model_name": "LayoutModel",
          "state": {
            "_view_name": "LayoutView",
            "grid_template_rows": null,
            "right": null,
            "justify_content": null,
            "_view_module": "@jupyter-widgets/base",
            "overflow": null,
            "_model_module_version": "1.2.0",
            "_view_count": null,
            "flex_flow": null,
            "width": null,
            "min_width": null,
            "border": null,
            "align_items": null,
            "bottom": null,
            "_model_module": "@jupyter-widgets/base",
            "top": null,
            "grid_column": null,
            "overflow_y": null,
            "overflow_x": null,
            "grid_auto_flow": null,
            "grid_area": null,
            "grid_template_columns": null,
            "flex": null,
            "_model_name": "LayoutModel",
            "justify_items": null,
            "grid_row": null,
            "max_height": null,
            "align_content": null,
            "visibility": null,
            "align_self": null,
            "height": null,
            "min_height": null,
            "padding": null,
            "grid_auto_rows": null,
            "grid_gap": null,
            "max_width": null,
            "order": null,
            "_view_module_version": "1.2.0",
            "grid_template_areas": null,
            "object_position": null,
            "object_fit": null,
            "grid_auto_columns": null,
            "margin": null,
            "display": null,
            "left": null
          }
        },
        "0fcacee94fe64aadbb0ff01280152452": {
          "model_module": "@jupyter-widgets/controls",
          "model_name": "FloatProgressModel",
          "state": {
            "_view_name": "ProgressView",
            "style": "IPY_MODEL_538e9896abe241bd9c9bfa08198dd087",
            "_dom_classes": [],
            "description": "Downloading: 100%",
            "_model_name": "FloatProgressModel",
            "bar_style": "success",
            "max": 150,
            "_view_module": "@jupyter-widgets/controls",
            "_model_module_version": "1.5.0",
            "value": 150,
            "_view_count": null,
            "_view_module_version": "1.5.0",
            "orientation": "horizontal",
            "min": 0,
            "description_tooltip": null,
            "_model_module": "@jupyter-widgets/controls",
            "layout": "IPY_MODEL_e0a84be38f7742b7adaf19bcfe3426ac"
          }
        },
        "5ace4b11dbd3418f9d389f2cb0119af2": {
          "model_module": "@jupyter-widgets/controls",
          "model_name": "HTMLModel",
          "state": {
            "_view_name": "HTMLView",
            "style": "IPY_MODEL_29f5a287490f41cc918a2a60a498ed3c",
            "_dom_classes": [],
            "description": "",
            "_model_name": "HTMLModel",
            "placeholder": "​",
            "_view_module": "@jupyter-widgets/controls",
            "_model_module_version": "1.5.0",
            "value": " 150/150 [00:00&lt;00:00, 961B/s]",
            "_view_count": null,
            "_view_module_version": "1.5.0",
            "description_tooltip": null,
            "_model_module": "@jupyter-widgets/controls",
            "layout": "IPY_MODEL_83fe1885d5f04323be81c3d29b140b4c"
          }
        },
        "538e9896abe241bd9c9bfa08198dd087": {
          "model_module": "@jupyter-widgets/controls",
          "model_name": "ProgressStyleModel",
          "state": {
            "_view_name": "StyleView",
            "_model_name": "ProgressStyleModel",
            "description_width": "initial",
            "_view_module": "@jupyter-widgets/base",
            "_model_module_version": "1.5.0",
            "_view_count": null,
            "_view_module_version": "1.2.0",
            "bar_color": null,
            "_model_module": "@jupyter-widgets/controls"
          }
        },
        "e0a84be38f7742b7adaf19bcfe3426ac": {
          "model_module": "@jupyter-widgets/base",
          "model_name": "LayoutModel",
          "state": {
            "_view_name": "LayoutView",
            "grid_template_rows": null,
            "right": null,
            "justify_content": null,
            "_view_module": "@jupyter-widgets/base",
            "overflow": null,
            "_model_module_version": "1.2.0",
            "_view_count": null,
            "flex_flow": null,
            "width": null,
            "min_width": null,
            "border": null,
            "align_items": null,
            "bottom": null,
            "_model_module": "@jupyter-widgets/base",
            "top": null,
            "grid_column": null,
            "overflow_y": null,
            "overflow_x": null,
            "grid_auto_flow": null,
            "grid_area": null,
            "grid_template_columns": null,
            "flex": null,
            "_model_name": "LayoutModel",
            "justify_items": null,
            "grid_row": null,
            "max_height": null,
            "align_content": null,
            "visibility": null,
            "align_self": null,
            "height": null,
            "min_height": null,
            "padding": null,
            "grid_auto_rows": null,
            "grid_gap": null,
            "max_width": null,
            "order": null,
            "_view_module_version": "1.2.0",
            "grid_template_areas": null,
            "object_position": null,
            "object_fit": null,
            "grid_auto_columns": null,
            "margin": null,
            "display": null,
            "left": null
          }
        },
        "29f5a287490f41cc918a2a60a498ed3c": {
          "model_module": "@jupyter-widgets/controls",
          "model_name": "DescriptionStyleModel",
          "state": {
            "_view_name": "StyleView",
            "_model_name": "DescriptionStyleModel",
            "description_width": "",
            "_view_module": "@jupyter-widgets/base",
            "_model_module_version": "1.5.0",
            "_view_count": null,
            "_view_module_version": "1.2.0",
            "_model_module": "@jupyter-widgets/controls"
          }
        },
        "83fe1885d5f04323be81c3d29b140b4c": {
          "model_module": "@jupyter-widgets/base",
          "model_name": "LayoutModel",
          "state": {
            "_view_name": "LayoutView",
            "grid_template_rows": null,
            "right": null,
            "justify_content": null,
            "_view_module": "@jupyter-widgets/base",
            "overflow": null,
            "_model_module_version": "1.2.0",
            "_view_count": null,
            "flex_flow": null,
            "width": null,
            "min_width": null,
            "border": null,
            "align_items": null,
            "bottom": null,
            "_model_module": "@jupyter-widgets/base",
            "top": null,
            "grid_column": null,
            "overflow_y": null,
            "overflow_x": null,
            "grid_auto_flow": null,
            "grid_area": null,
            "grid_template_columns": null,
            "flex": null,
            "_model_name": "LayoutModel",
            "justify_items": null,
            "grid_row": null,
            "max_height": null,
            "align_content": null,
            "visibility": null,
            "align_self": null,
            "height": null,
            "min_height": null,
            "padding": null,
            "grid_auto_rows": null,
            "grid_gap": null,
            "max_width": null,
            "order": null,
            "_view_module_version": "1.2.0",
            "grid_template_areas": null,
            "object_position": null,
            "object_fit": null,
            "grid_auto_columns": null,
            "margin": null,
            "display": null,
            "left": null
          }
        }
      }
    }
  },
  "cells": [
    {
      "cell_type": "markdown",
      "metadata": {
        "id": "view-in-github",
        "colab_type": "text"
      },
      "source": [
        "<a href=\"https://colab.research.google.com/github/un21988/CE888-7-project-2/blob/main/Sentiment_classification.ipynb\" target=\"_parent\"><img src=\"https://colab.research.google.com/assets/colab-badge.svg\" alt=\"Open In Colab\"/></a>"
      ]
    },
    {
      "cell_type": "code",
      "metadata": {
        "id": "J9D5SK7ckOmB"
      },
      "source": [
        "def preprocess(text):\r\n",
        "    new_text = []\r\n",
        "    for t in text.split(\" \"):\r\n",
        "        t = '@user' if t.startswith('@') and len(t) > 1 else t\r\n",
        "        t = 'http' if t.startswith('http') else t\r\n",
        "        new_text.append(t)\r\n",
        "    return \" \".join(new_text)"
      ],
      "execution_count": 49,
      "outputs": []
    },
    {
      "cell_type": "code",
      "metadata": {
        "colab": {
          "base_uri": "https://localhost:8080/"
        },
        "id": "MCheVVA7kQFF",
        "outputId": "4c260355-68fe-4377-8a27-5cb9365e15d8"
      },
      "source": [
        "!pip install transformers"
      ],
      "execution_count": 13,
      "outputs": [
        {
          "output_type": "stream",
          "text": [
            "Collecting transformers\n",
            "\u001b[?25l  Downloading https://files.pythonhosted.org/packages/98/87/ef312eef26f5cecd8b17ae9654cdd8d1fae1eb6dbd87257d6d73c128a4d0/transformers-4.3.2-py3-none-any.whl (1.8MB)\n",
            "\u001b[K     |████████████████████████████████| 1.8MB 5.8MB/s \n",
            "\u001b[?25hRequirement already satisfied: importlib-metadata; python_version < \"3.8\" in /usr/local/lib/python3.6/dist-packages (from transformers) (3.4.0)\n",
            "Collecting sacremoses\n",
            "\u001b[?25l  Downloading https://files.pythonhosted.org/packages/7d/34/09d19aff26edcc8eb2a01bed8e98f13a1537005d31e95233fd48216eed10/sacremoses-0.0.43.tar.gz (883kB)\n",
            "\u001b[K     |████████████████████████████████| 890kB 36.6MB/s \n",
            "\u001b[?25hCollecting tokenizers<0.11,>=0.10.1\n",
            "\u001b[?25l  Downloading https://files.pythonhosted.org/packages/fd/5b/44baae602e0a30bcc53fbdbc60bd940c15e143d252d658dfdefce736ece5/tokenizers-0.10.1-cp36-cp36m-manylinux2010_x86_64.whl (3.2MB)\n",
            "\u001b[K     |████████████████████████████████| 3.2MB 30.0MB/s \n",
            "\u001b[?25hRequirement already satisfied: regex!=2019.12.17 in /usr/local/lib/python3.6/dist-packages (from transformers) (2019.12.20)\n",
            "Requirement already satisfied: dataclasses; python_version < \"3.7\" in /usr/local/lib/python3.6/dist-packages (from transformers) (0.8)\n",
            "Requirement already satisfied: requests in /usr/local/lib/python3.6/dist-packages (from transformers) (2.23.0)\n",
            "Requirement already satisfied: packaging in /usr/local/lib/python3.6/dist-packages (from transformers) (20.9)\n",
            "Requirement already satisfied: numpy>=1.17 in /usr/local/lib/python3.6/dist-packages (from transformers) (1.19.5)\n",
            "Requirement already satisfied: filelock in /usr/local/lib/python3.6/dist-packages (from transformers) (3.0.12)\n",
            "Requirement already satisfied: tqdm>=4.27 in /usr/local/lib/python3.6/dist-packages (from transformers) (4.41.1)\n",
            "Requirement already satisfied: typing-extensions>=3.6.4; python_version < \"3.8\" in /usr/local/lib/python3.6/dist-packages (from importlib-metadata; python_version < \"3.8\"->transformers) (3.7.4.3)\n",
            "Requirement already satisfied: zipp>=0.5 in /usr/local/lib/python3.6/dist-packages (from importlib-metadata; python_version < \"3.8\"->transformers) (3.4.0)\n",
            "Requirement already satisfied: six in /usr/local/lib/python3.6/dist-packages (from sacremoses->transformers) (1.15.0)\n",
            "Requirement already satisfied: click in /usr/local/lib/python3.6/dist-packages (from sacremoses->transformers) (7.1.2)\n",
            "Requirement already satisfied: joblib in /usr/local/lib/python3.6/dist-packages (from sacremoses->transformers) (1.0.0)\n",
            "Requirement already satisfied: certifi>=2017.4.17 in /usr/local/lib/python3.6/dist-packages (from requests->transformers) (2020.12.5)\n",
            "Requirement already satisfied: idna<3,>=2.5 in /usr/local/lib/python3.6/dist-packages (from requests->transformers) (2.10)\n",
            "Requirement already satisfied: urllib3!=1.25.0,!=1.25.1,<1.26,>=1.21.1 in /usr/local/lib/python3.6/dist-packages (from requests->transformers) (1.24.3)\n",
            "Requirement already satisfied: chardet<4,>=3.0.2 in /usr/local/lib/python3.6/dist-packages (from requests->transformers) (3.0.4)\n",
            "Requirement already satisfied: pyparsing>=2.0.2 in /usr/local/lib/python3.6/dist-packages (from packaging->transformers) (2.4.7)\n",
            "Building wheels for collected packages: sacremoses\n",
            "  Building wheel for sacremoses (setup.py) ... \u001b[?25l\u001b[?25hdone\n",
            "  Created wheel for sacremoses: filename=sacremoses-0.0.43-cp36-none-any.whl size=893261 sha256=c712613bd9584d4e42796e516c94f76cf883949d564010c53626fff7f9763bc0\n",
            "  Stored in directory: /root/.cache/pip/wheels/29/3c/fd/7ce5c3f0666dab31a50123635e6fb5e19ceb42ce38d4e58f45\n",
            "Successfully built sacremoses\n",
            "Installing collected packages: sacremoses, tokenizers, transformers\n",
            "Successfully installed sacremoses-0.0.43 tokenizers-0.10.1 transformers-4.3.2\n"
          ],
          "name": "stdout"
        }
      ]
    },
    {
      "cell_type": "code",
      "metadata": {
        "colab": {
          "base_uri": "https://localhost:8080/",
          "height": 212,
          "referenced_widgets": [
            "2694306c66f7495c876657406ea913ce",
            "2563a257ce7a452aba30a68def238e00",
            "21dfa4a8d55845e0ac077348a5356e3b",
            "0cbbece7e1b14ba3a0a28de889384f04",
            "e989caefa58f41e585ead772e4171d92",
            "3a96489acd0c44ce85b3c1865b908cf6",
            "cc3f392e6fac423082891af145ab08f9",
            "ebde01b652ac436bab814cd4dc96fd17",
            "92d055f37e83426cb1c7cd3619128e24",
            "7108955fe3d345269ff51848dd593c11",
            "fbbe84efe73e4fb99d500f683fb5169b",
            "1eb4983e37734bda8bc717410858e043",
            "83ecc54cb3ad466c8abd3635d1562f28",
            "88cb579cb0c0438f9f55a59b8629bb67",
            "54a65d15008c423b9cbaed4461cb2008",
            "49d7c0f98a3547eeba7e46e856c1e4ba",
            "23d9828589ff4f7992a6d6ce69d1641d",
            "03b0327cf5a946d8839af9b2f092e117",
            "ae2e20609f754f1799ad3e97549cd818",
            "d2eb694c0cc748b2aa397f6c9cf63589",
            "5940654186e645dab010798698c9c073",
            "1b38aad2c1aa4a14bf3ac78eb63ab2e9",
            "4eb0ba01a9d84b7e9e3847e9b749fb57",
            "3e102854f03c458f8b3b57000705020d",
            "ad183ed3be384d51ace7e74b186c7278",
            "10095a150a9e4137bad6fbe257b869d4",
            "0fcacee94fe64aadbb0ff01280152452",
            "5ace4b11dbd3418f9d389f2cb0119af2",
            "538e9896abe241bd9c9bfa08198dd087",
            "e0a84be38f7742b7adaf19bcfe3426ac",
            "29f5a287490f41cc918a2a60a498ed3c",
            "83fe1885d5f04323be81c3d29b140b4c"
          ]
        },
        "id": "LdOmZbMRkTJq",
        "outputId": "170e41b3-6284-4f28-f3be-f679196bc8ed"
      },
      "source": [
        "from transformers import AutoModelForSequenceClassification\r\n",
        "from transformers import TFAutoModelForSequenceClassification\r\n",
        "from transformers import AutoTokenizer\r\n",
        "import numpy as np\r\n",
        "from scipy.special import softmax\r\n",
        "import csv\r\n",
        "import urllib.request\r\n",
        "\r\n",
        "task='sentiment'\r\n",
        "MODEL = f\"cardiffnlp/twitter-roberta-base-{task}\"\r\n",
        "\r\n",
        "tokenizer = AutoTokenizer.from_pretrained(MODEL)\r\n"
      ],
      "execution_count": 14,
      "outputs": [
        {
          "output_type": "display_data",
          "data": {
            "application/vnd.jupyter.widget-view+json": {
              "model_id": "2694306c66f7495c876657406ea913ce",
              "version_minor": 0,
              "version_major": 2
            },
            "text/plain": [
              "HBox(children=(FloatProgress(value=0.0, description='Downloading', max=747.0, style=ProgressStyle(description_…"
            ]
          },
          "metadata": {
            "tags": []
          }
        },
        {
          "output_type": "stream",
          "text": [
            "\n"
          ],
          "name": "stdout"
        },
        {
          "output_type": "display_data",
          "data": {
            "application/vnd.jupyter.widget-view+json": {
              "model_id": "92d055f37e83426cb1c7cd3619128e24",
              "version_minor": 0,
              "version_major": 2
            },
            "text/plain": [
              "HBox(children=(FloatProgress(value=0.0, description='Downloading', max=898822.0, style=ProgressStyle(descripti…"
            ]
          },
          "metadata": {
            "tags": []
          }
        },
        {
          "output_type": "stream",
          "text": [
            "\n"
          ],
          "name": "stdout"
        },
        {
          "output_type": "display_data",
          "data": {
            "application/vnd.jupyter.widget-view+json": {
              "model_id": "23d9828589ff4f7992a6d6ce69d1641d",
              "version_minor": 0,
              "version_major": 2
            },
            "text/plain": [
              "HBox(children=(FloatProgress(value=0.0, description='Downloading', max=456318.0, style=ProgressStyle(descripti…"
            ]
          },
          "metadata": {
            "tags": []
          }
        },
        {
          "output_type": "stream",
          "text": [
            "\n"
          ],
          "name": "stdout"
        },
        {
          "output_type": "display_data",
          "data": {
            "application/vnd.jupyter.widget-view+json": {
              "model_id": "ad183ed3be384d51ace7e74b186c7278",
              "version_minor": 0,
              "version_major": 2
            },
            "text/plain": [
              "HBox(children=(FloatProgress(value=0.0, description='Downloading', max=150.0, style=ProgressStyle(description_…"
            ]
          },
          "metadata": {
            "tags": []
          }
        },
        {
          "output_type": "stream",
          "text": [
            "\n"
          ],
          "name": "stdout"
        }
      ]
    },
    {
      "cell_type": "code",
      "metadata": {
        "colab": {
          "base_uri": "https://localhost:8080/"
        },
        "id": "xwVWem0Ykmtb",
        "outputId": "50cec800-6511-483b-e5ac-b17b9ae9510a"
      },
      "source": [
        "# download label mapping\r\n",
        "mapping_link = f\"https://raw.githubusercontent.com/cardiffnlp/tweeteval/main/datasets/sentiment/mapping.txt\"\r\n",
        "with urllib.request.urlopen(mapping_link) as f:\r\n",
        "    html = f.read().decode('utf-8').split(\"\\n\")\r\n",
        "    csvreader = csv.reader(html, delimiter='\\t')\r\n",
        "labels = [row[1] for row in csvreader if len(row) > 1]\r\n",
        "labels"
      ],
      "execution_count": 15,
      "outputs": [
        {
          "output_type": "execute_result",
          "data": {
            "text/plain": [
              "['negative', 'neutral', 'positive']"
            ]
          },
          "metadata": {
            "tags": []
          },
          "execution_count": 15
        }
      ]
    },
    {
      "cell_type": "code",
      "metadata": {
        "colab": {
          "base_uri": "https://localhost:8080/"
        },
        "id": "jo5ngv4_mPge",
        "outputId": "5d3e870a-c80e-4d67-feab-cc390ffbac55"
      },
      "source": [
        "import pandas as pd\r\n",
        "import urllib.request \r\n",
        "import requests\r\n",
        "\r\n",
        "test_text_url = \"https://raw.githubusercontent.com/cardiffnlp/tweeteval/main/datasets/sentiment/test_text.txt\"\r\n",
        "val_text_url= \"https://raw.githubusercontent.com/cardiffnlp/tweeteval/main/datasets/sentiment/val_text.txt\"\r\n",
        "val_lable_url= \"https://raw.githubusercontent.com/cardiffnlp/tweeteval/main/datasets/sentiment/val_labels.txt\"\r\n",
        "#df = open(url,\"r\")\r\n",
        "#print(df)\r\n",
        "\r\n",
        "\r\n",
        "r = requests.get(test_text_url, allow_redirects=True)\r\n",
        "open('test_text.txt', 'wb').write(r.content)\r\n",
        "\r\n",
        "r1 = requests.get(val_text_url, allow_redirects=True)\r\n",
        "open('val_text.txt', 'wb').write(r1.content)\r\n",
        "\r\n",
        "\r\n",
        "r2 = requests.get(val_lable_url, allow_redirects=True)\r\n",
        "open('val_lable.txt', 'wb').write(r2.content)\r\n",
        "\r\n",
        "\r\n",
        "\r\n",
        "\r\n",
        "\r\n",
        "\r\n",
        "\r\n",
        "\r\n",
        "\r\n"
      ],
      "execution_count": 155,
      "outputs": [
        {
          "output_type": "execute_result",
          "data": {
            "text/plain": [
              "4000"
            ]
          },
          "metadata": {
            "tags": []
          },
          "execution_count": 155
        }
      ]
    },
    {
      "cell_type": "code",
      "metadata": {
        "colab": {
          "base_uri": "https://localhost:8080/"
        },
        "id": "JtZbYf-C-hdp",
        "outputId": "2c8c48a3-7b81-4fab-db08-f637c711ca95"
      },
      "source": [
        "stream=open(\"test_text.txt\")\r\n",
        "tweets=stream.readlines()\r\n",
        "stream.close()\r\n",
        "print(tweets[1])"
      ],
      "execution_count": 156,
      "outputs": [
        {
          "output_type": "stream",
          "text": [
            "OH: “I had a blue penis while I was this” [playing with Google Earth VR] \n",
            "\n"
          ],
          "name": "stdout"
        }
      ]
    },
    {
      "cell_type": "code",
      "metadata": {
        "colab": {
          "base_uri": "https://localhost:8080/"
        },
        "id": "yqGT8MaU1yL-",
        "outputId": "77a281bf-b0f9-42ad-993f-ddc90edee279"
      },
      "source": [
        "stream1=open(\"val_lable.txt\")\n",
        "val_lable=stream1.readlines()\n",
        "stream1.close()\n",
        "print(val_lable)"
      ],
      "execution_count": 158,
      "outputs": [
        {
          "output_type": "stream",
          "text": [
            "['1\\n', '2\\n', '0\\n', '1\\n', '1\\n', '1\\n', '2\\n', '0\\n', '2\\n', '1\\n', '0\\n', '2\\n', '1\\n', '1\\n', '0\\n', '2\\n', '2\\n', '1\\n', '2\\n', '0\\n', '2\\n', '0\\n', '1\\n', '1\\n', '0\\n', '2\\n', '2\\n', '1\\n', '2\\n', '2\\n', '2\\n', '1\\n', '2\\n', '2\\n', '1\\n', '1\\n', '2\\n', '2\\n', '1\\n', '1\\n', '1\\n', '1\\n', '2\\n', '2\\n', '2\\n', '0\\n', '1\\n', '1\\n', '0\\n', '2\\n', '2\\n', '0\\n', '1\\n', '2\\n', '1\\n', '2\\n', '2\\n', '2\\n', '2\\n', '2\\n', '0\\n', '1\\n', '1\\n', '0\\n', '2\\n', '2\\n', '0\\n', '1\\n', '2\\n', '1\\n', '1\\n', '1\\n', '2\\n', '2\\n', '2\\n', '2\\n', '0\\n', '1\\n', '1\\n', '0\\n', '2\\n', '1\\n', '1\\n', '1\\n', '2\\n', '1\\n', '1\\n', '1\\n', '1\\n', '1\\n', '0\\n', '1\\n', '0\\n', '2\\n', '2\\n', '2\\n', '2\\n', '2\\n', '2\\n', '2\\n', '1\\n', '1\\n', '2\\n', '2\\n', '0\\n', '1\\n', '1\\n', '1\\n', '1\\n', '1\\n', '2\\n', '1\\n', '0\\n', '0\\n', '1\\n', '1\\n', '0\\n', '2\\n', '1\\n', '2\\n', '2\\n', '1\\n', '2\\n', '2\\n', '1\\n', '1\\n', '1\\n', '1\\n', '2\\n', '1\\n', '1\\n', '2\\n', '2\\n', '1\\n', '0\\n', '2\\n', '1\\n', '2\\n', '2\\n', '2\\n', '2\\n', '0\\n', '2\\n', '2\\n', '1\\n', '1\\n', '2\\n', '1\\n', '2\\n', '1\\n', '1\\n', '1\\n', '2\\n', '1\\n', '2\\n', '1\\n', '1\\n', '2\\n', '2\\n', '2\\n', '1\\n', '1\\n', '1\\n', '2\\n', '2\\n', '1\\n', '2\\n', '0\\n', '0\\n', '1\\n', '2\\n', '2\\n', '2\\n', '2\\n', '0\\n', '1\\n', '1\\n', '1\\n', '1\\n', '2\\n', '2\\n', '0\\n', '1\\n', '1\\n', '1\\n', '0\\n', '1\\n', '1\\n', '1\\n', '2\\n', '1\\n', '1\\n', '0\\n', '2\\n', '0\\n', '2\\n', '0\\n', '2\\n', '1\\n', '0\\n', '1\\n', '2\\n', '1\\n', '0\\n', '2\\n', '2\\n', '2\\n', '2\\n', '1\\n', '1\\n', '1\\n', '2\\n', '0\\n', '1\\n', '2\\n', '1\\n', '1\\n', '2\\n', '1\\n', '0\\n', '1\\n', '1\\n', '0\\n', '1\\n', '1\\n', '2\\n', '2\\n', '1\\n', '1\\n', '0\\n', '2\\n', '1\\n', '1\\n', '2\\n', '1\\n', '1\\n', '2\\n', '0\\n', '1\\n', '2\\n', '0\\n', '2\\n', '0\\n', '2\\n', '1\\n', '1\\n', '1\\n', '2\\n', '1\\n', '1\\n', '2\\n', '0\\n', '1\\n', '1\\n', '2\\n', '1\\n', '1\\n', '2\\n', '1\\n', '1\\n', '2\\n', '1\\n', '0\\n', '0\\n', '0\\n', '2\\n', '1\\n', '2\\n', '2\\n', '1\\n', '1\\n', '1\\n', '1\\n', '0\\n', '0\\n', '1\\n', '1\\n', '2\\n', '1\\n', '2\\n', '2\\n', '0\\n', '1\\n', '1\\n', '1\\n', '1\\n', '0\\n', '2\\n', '1\\n', '2\\n', '2\\n', '2\\n', '1\\n', '0\\n', '2\\n', '1\\n', '1\\n', '0\\n', '2\\n', '2\\n', '0\\n', '2\\n', '2\\n', '0\\n', '2\\n', '1\\n', '2\\n', '1\\n', '1\\n', '1\\n', '2\\n', '2\\n', '1\\n', '0\\n', '1\\n', '0\\n', '1\\n', '2\\n', '2\\n', '1\\n', '2\\n', '1\\n', '2\\n', '2\\n', '1\\n', '2\\n', '1\\n', '2\\n', '2\\n', '2\\n', '2\\n', '1\\n', '1\\n', '0\\n', '2\\n', '1\\n', '1\\n', '1\\n', '2\\n', '2\\n', '2\\n', '2\\n', '2\\n', '1\\n', '1\\n', '0\\n', '2\\n', '2\\n', '1\\n', '2\\n', '0\\n', '0\\n', '1\\n', '0\\n', '1\\n', '1\\n', '2\\n', '2\\n', '1\\n', '1\\n', '1\\n', '1\\n', '0\\n', '1\\n', '1\\n', '2\\n', '2\\n', '2\\n', '1\\n', '1\\n', '2\\n', '1\\n', '0\\n', '0\\n', '1\\n', '1\\n', '1\\n', '2\\n', '2\\n', '1\\n', '2\\n', '1\\n', '2\\n', '1\\n', '1\\n', '1\\n', '2\\n', '2\\n', '0\\n', '1\\n', '2\\n', '2\\n', '2\\n', '1\\n', '1\\n', '2\\n', '1\\n', '1\\n', '1\\n', '1\\n', '2\\n', '2\\n', '2\\n', '1\\n', '1\\n', '1\\n', '1\\n', '1\\n', '2\\n', '1\\n', '1\\n', '0\\n', '1\\n', '2\\n', '2\\n', '2\\n', '1\\n', '1\\n', '1\\n', '0\\n', '2\\n', '1\\n', '1\\n', '2\\n', '2\\n', '2\\n', '2\\n', '1\\n', '0\\n', '2\\n', '0\\n', '2\\n', '2\\n', '0\\n', '2\\n', '2\\n', '1\\n', '1\\n', '1\\n', '1\\n', '1\\n', '2\\n', '2\\n', '2\\n', '2\\n', '2\\n', '1\\n', '0\\n', '1\\n', '1\\n', '2\\n', '1\\n', '2\\n', '1\\n', '2\\n', '2\\n', '1\\n', '2\\n', '2\\n', '2\\n', '1\\n', '1\\n', '2\\n', '0\\n', '0\\n', '1\\n', '1\\n', '1\\n', '1\\n', '2\\n', '1\\n', '1\\n', '2\\n', '1\\n', '2\\n', '2\\n', '2\\n', '1\\n', '1\\n', '2\\n', '1\\n', '2\\n', '2\\n', '2\\n', '2\\n', '1\\n', '1\\n', '2\\n', '0\\n', '2\\n', '2\\n', '2\\n', '1\\n', '2\\n', '2\\n', '0\\n', '2\\n', '2\\n', '2\\n', '0\\n', '0\\n', '2\\n', '0\\n', '1\\n', '2\\n', '2\\n', '2\\n', '2\\n', '2\\n', '1\\n', '1\\n', '1\\n', '1\\n', '1\\n', '2\\n', '2\\n', '1\\n', '0\\n', '2\\n', '1\\n', '2\\n', '1\\n', '1\\n', '2\\n', '2\\n', '2\\n', '2\\n', '2\\n', '1\\n', '1\\n', '1\\n', '1\\n', '2\\n', '1\\n', '2\\n', '2\\n', '1\\n', '1\\n', '1\\n', '2\\n', '1\\n', '1\\n', '2\\n', '2\\n', '2\\n', '0\\n', '2\\n', '2\\n', '2\\n', '2\\n', '1\\n', '0\\n', '1\\n', '2\\n', '1\\n', '1\\n', '2\\n', '0\\n', '2\\n', '1\\n', '1\\n', '1\\n', '2\\n', '1\\n', '0\\n', '2\\n', '2\\n', '1\\n', '0\\n', '2\\n', '1\\n', '2\\n', '1\\n', '1\\n', '2\\n', '2\\n', '0\\n', '0\\n', '1\\n', '0\\n', '2\\n', '1\\n', '0\\n', '2\\n', '2\\n', '0\\n', '1\\n', '1\\n', '2\\n', '1\\n', '2\\n', '1\\n', '2\\n', '2\\n', '1\\n', '2\\n', '1\\n', '0\\n', '2\\n', '1\\n', '0\\n', '1\\n', '1\\n', '2\\n', '1\\n', '1\\n', '0\\n', '2\\n', '2\\n', '1\\n', '2\\n', '1\\n', '0\\n', '2\\n', '0\\n', '1\\n', '0\\n', '2\\n', '1\\n', '2\\n', '1\\n', '2\\n', '1\\n', '1\\n', '1\\n', '1\\n', '0\\n', '0\\n', '2\\n', '0\\n', '1\\n', '2\\n', '1\\n', '0\\n', '1\\n', '1\\n', '1\\n', '0\\n', '2\\n', '1\\n', '2\\n', '0\\n', '1\\n', '1\\n', '2\\n', '0\\n', '2\\n', '2\\n', '2\\n', '2\\n', '2\\n', '0\\n', '2\\n', '1\\n', '1\\n', '2\\n', '2\\n', '1\\n', '2\\n', '1\\n', '1\\n', '1\\n', '1\\n', '1\\n', '1\\n', '1\\n', '1\\n', '2\\n', '2\\n', '1\\n', '1\\n', '1\\n', '2\\n', '1\\n', '1\\n', '2\\n', '2\\n', '1\\n', '0\\n', '2\\n', '1\\n', '1\\n', '2\\n', '1\\n', '0\\n', '1\\n', '2\\n', '1\\n', '1\\n', '1\\n', '2\\n', '1\\n', '2\\n', '1\\n', '2\\n', '2\\n', '2\\n', '1\\n', '1\\n', '2\\n', '1\\n', '2\\n', '2\\n', '2\\n', '1\\n', '2\\n', '0\\n', '1\\n', '2\\n', '0\\n', '2\\n', '2\\n', '1\\n', '1\\n', '1\\n', '0\\n', '1\\n', '0\\n', '1\\n', '2\\n', '0\\n', '1\\n', '0\\n', '0\\n', '2\\n', '1\\n', '0\\n', '0\\n', '0\\n', '1\\n', '2\\n', '1\\n', '2\\n', '2\\n', '1\\n', '2\\n', '1\\n', '1\\n', '1\\n', '1\\n', '1\\n', '2\\n', '1\\n', '1\\n', '0\\n', '1\\n', '1\\n', '2\\n', '1\\n', '1\\n', '2\\n', '2\\n', '0\\n', '2\\n', '0\\n', '1\\n', '1\\n', '2\\n', '1\\n', '1\\n', '0\\n', '1\\n', '2\\n', '2\\n', '2\\n', '2\\n', '1\\n', '2\\n', '1\\n', '1\\n', '1\\n', '0\\n', '2\\n', '2\\n', '2\\n', '1\\n', '0\\n', '2\\n', '0\\n', '0\\n', '0\\n', '2\\n', '1\\n', '2\\n', '2\\n', '2\\n', '1\\n', '2\\n', '1\\n', '1\\n', '1\\n', '1\\n', '1\\n', '1\\n', '1\\n', '1\\n', '1\\n', '1\\n', '1\\n', '2\\n', '2\\n', '1\\n', '2\\n', '0\\n', '2\\n', '1\\n', '2\\n', '2\\n', '0\\n', '1\\n', '1\\n', '0\\n', '1\\n', '0\\n', '2\\n', '1\\n', '0\\n', '2\\n', '1\\n', '0\\n', '0\\n', '1\\n', '2\\n', '1\\n', '2\\n', '2\\n', '2\\n', '2\\n', '1\\n', '2\\n', '2\\n', '0\\n', '0\\n', '2\\n', '2\\n', '2\\n', '2\\n', '1\\n', '0\\n', '1\\n', '1\\n', '2\\n', '2\\n', '2\\n', '2\\n', '2\\n', '2\\n', '1\\n', '1\\n', '0\\n', '0\\n', '2\\n', '2\\n', '2\\n', '1\\n', '1\\n', '2\\n', '1\\n', '1\\n', '1\\n', '0\\n', '2\\n', '2\\n', '1\\n', '1\\n', '1\\n', '2\\n', '1\\n', '2\\n', '1\\n', '1\\n', '2\\n', '1\\n', '1\\n', '2\\n', '2\\n', '2\\n', '2\\n', '0\\n', '2\\n', '2\\n', '1\\n', '2\\n', '1\\n', '2\\n', '2\\n', '1\\n', '1\\n', '2\\n', '2\\n', '2\\n', '0\\n', '1\\n', '2\\n', '0\\n', '1\\n', '0\\n', '1\\n', '2\\n', '2\\n', '1\\n', '0\\n', '2\\n', '1\\n', '0\\n', '2\\n', '2\\n', '0\\n', '2\\n', '0\\n', '1\\n', '2\\n', '1\\n', '1\\n', '1\\n', '2\\n', '2\\n', '2\\n', '1\\n', '1\\n', '2\\n', '1\\n', '1\\n', '2\\n', '1\\n', '1\\n', '2\\n', '1\\n', '0\\n', '2\\n', '1\\n', '2\\n', '2\\n', '2\\n', '1\\n', '1\\n', '1\\n', '2\\n', '2\\n', '0\\n', '2\\n', '2\\n', '2\\n', '0\\n', '2\\n', '1\\n', '1\\n', '0\\n', '2\\n', '2\\n', '2\\n', '1\\n', '2\\n', '1\\n', '2\\n', '1\\n', '0\\n', '1\\n', '1\\n', '2\\n', '2\\n', '2\\n', '1\\n', '1\\n', '2\\n', '2\\n', '1\\n', '0\\n', '1\\n', '2\\n', '1\\n', '0\\n', '1\\n', '1\\n', '0\\n', '2\\n', '2\\n', '2\\n', '1\\n', '1\\n', '0\\n', '1\\n', '2\\n', '2\\n', '2\\n', '1\\n', '1\\n', '1\\n', '2\\n', '1\\n', '0\\n', '1\\n', '1\\n', '2\\n', '2\\n', '2\\n', '2\\n', '2\\n', '2\\n', '2\\n', '1\\n', '0\\n', '0\\n', '2\\n', '1\\n', '1\\n', '2\\n', '2\\n', '2\\n', '0\\n', '2\\n', '2\\n', '2\\n', '2\\n', '1\\n', '1\\n', '2\\n', '2\\n', '1\\n', '1\\n', '1\\n', '2\\n', '1\\n', '1\\n', '1\\n', '2\\n', '1\\n', '0\\n', '2\\n', '2\\n', '2\\n', '1\\n', '1\\n', '2\\n', '2\\n', '2\\n', '1\\n', '2\\n', '1\\n', '1\\n', '2\\n', '1\\n', '0\\n', '1\\n', '2\\n', '1\\n', '2\\n', '2\\n', '1\\n', '1\\n', '1\\n', '0\\n', '2\\n', '1\\n', '2\\n', '2\\n', '2\\n', '1\\n', '1\\n', '1\\n', '1\\n', '1\\n', '0\\n', '1\\n', '2\\n', '1\\n', '0\\n', '1\\n', '0\\n', '2\\n', '0\\n', '1\\n', '2\\n', '2\\n', '0\\n', '2\\n', '2\\n', '0\\n', '2\\n', '2\\n', '0\\n', '2\\n', '1\\n', '2\\n', '1\\n', '2\\n', '2\\n', '2\\n', '1\\n', '1\\n', '2\\n', '1\\n', '1\\n', '2\\n', '2\\n', '0\\n', '2\\n', '1\\n', '1\\n', '1\\n', '1\\n', '0\\n', '1\\n', '1\\n', '0\\n', '2\\n', '1\\n', '1\\n', '0\\n', '2\\n', '2\\n', '0\\n', '2\\n', '2\\n', '1\\n', '1\\n', '1\\n', '1\\n', '2\\n', '2\\n', '1\\n', '1\\n', '1\\n', '2\\n', '1\\n', '2\\n', '1\\n', '2\\n', '1\\n', '2\\n', '0\\n', '1\\n', '1\\n', '1\\n', '0\\n', '0\\n', '1\\n', '2\\n', '1\\n', '2\\n', '1\\n', '2\\n', '1\\n', '2\\n', '2\\n', '2\\n', '0\\n', '1\\n', '0\\n', '1\\n', '2\\n', '2\\n', '2\\n', '1\\n', '0\\n', '1\\n', '2\\n', '2\\n', '0\\n', '1\\n', '2\\n', '1\\n', '0\\n', '2\\n', '1\\n', '2\\n', '1\\n', '2\\n', '2\\n', '0\\n', '0\\n', '1\\n', '1\\n', '1\\n', '1\\n', '2\\n', '1\\n', '2\\n', '2\\n', '0\\n', '1\\n', '1\\n', '0\\n', '1\\n', '0\\n', '1\\n', '0\\n', '1\\n', '2\\n', '1\\n', '1\\n', '1\\n', '1\\n', '0\\n', '2\\n', '2\\n', '1\\n', '1\\n', '0\\n', '0\\n', '1\\n', '2\\n', '1\\n', '1\\n', '1\\n', '0\\n', '1\\n', '2\\n', '2\\n', '2\\n', '2\\n', '1\\n', '1\\n', '0\\n', '1\\n', '2\\n', '2\\n', '1\\n', '2\\n', '2\\n', '0\\n', '2\\n', '0\\n', '2\\n', '2\\n', '2\\n', '2\\n', '2\\n', '1\\n', '0\\n', '2\\n', '2\\n', '2\\n', '2\\n', '1\\n', '0\\n', '2\\n', '2\\n', '0\\n', '1\\n', '0\\n', '2\\n', '2\\n', '2\\n', '0\\n', '2\\n', '1\\n', '2\\n', '1\\n', '2\\n', '1\\n', '1\\n', '2\\n', '2\\n', '0\\n', '1\\n', '1\\n', '0\\n', '2\\n', '1\\n', '1\\n', '2\\n', '2\\n', '2\\n', '2\\n', '1\\n', '1\\n', '1\\n', '2\\n', '1\\n', '1\\n', '2\\n', '1\\n', '2\\n', '2\\n', '2\\n', '0\\n', '2\\n', '1\\n', '1\\n', '1\\n', '0\\n', '1\\n', '1\\n', '2\\n', '1\\n', '2\\n', '2\\n', '0\\n', '2\\n', '1\\n', '0\\n', '0\\n', '2\\n', '1\\n', '2\\n', '1\\n', '1\\n', '0\\n', '2\\n', '1\\n', '0\\n', '0\\n', '2\\n', '2\\n', '1\\n', '0\\n', '1\\n', '2\\n', '2\\n', '2\\n', '2\\n', '2\\n', '1\\n', '1\\n', '0\\n', '0\\n', '1\\n', '1\\n', '2\\n', '1\\n', '0\\n', '1\\n', '1\\n', '1\\n', '1\\n', '2\\n', '1\\n', '0\\n', '1\\n', '1\\n', '0\\n', '1\\n', '1\\n', '1\\n', '2\\n', '2\\n', '1\\n', '1\\n', '2\\n', '1\\n', '1\\n', '1\\n', '1\\n', '1\\n', '2\\n', '0\\n', '0\\n', '1\\n', '1\\n', '0\\n', '2\\n', '0\\n', '2\\n', '2\\n', '0\\n', '1\\n', '2\\n', '1\\n', '2\\n', '1\\n', '1\\n', '1\\n', '1\\n', '1\\n', '1\\n', '1\\n', '0\\n', '1\\n', '1\\n', '1\\n', '2\\n', '1\\n', '2\\n', '1\\n', '1\\n', '2\\n', '0\\n', '1\\n', '2\\n', '1\\n', '1\\n', '2\\n', '1\\n', '2\\n', '1\\n', '2\\n', '1\\n', '1\\n', '0\\n', '0\\n', '1\\n', '2\\n', '2\\n', '2\\n', '2\\n', '1\\n', '2\\n', '0\\n', '2\\n', '2\\n', '1\\n', '2\\n', '2\\n', '2\\n', '2\\n', '2\\n', '2\\n', '1\\n', '1\\n', '1\\n', '0\\n', '2\\n', '2\\n', '1\\n', '0\\n', '1\\n', '1\\n', '2\\n', '2\\n', '0\\n', '2\\n', '0\\n', '1\\n', '1\\n', '0\\n', '1\\n', '1\\n', '2\\n', '2\\n', '1\\n', '0\\n', '1\\n', '0\\n', '1\\n', '2\\n', '1\\n', '1\\n', '0\\n', '2\\n', '1\\n', '1\\n', '1\\n', '2\\n', '1\\n', '2\\n', '2\\n', '2\\n', '2\\n', '1\\n', '1\\n', '1\\n', '0\\n', '2\\n', '2\\n', '2\\n', '2\\n', '2\\n', '0\\n', '2\\n', '1\\n', '2\\n', '1\\n', '1\\n', '1\\n', '1\\n', '1\\n', '1\\n', '0\\n', '2\\n', '2\\n', '2\\n', '1\\n', '2\\n', '2\\n', '1\\n', '2\\n', '2\\n', '1\\n', '2\\n', '0\\n', '1\\n', '1\\n', '2\\n', '1\\n', '1\\n', '1\\n', '0\\n', '0\\n', '2\\n', '0\\n', '2\\n', '2\\n', '2\\n', '1\\n', '0\\n', '1\\n', '1\\n', '1\\n', '0\\n', '1\\n', '1\\n', '1\\n', '1\\n', '1\\n', '2\\n', '1\\n', '0\\n', '1\\n', '2\\n', '1\\n', '2\\n', '1\\n', '2\\n', '1\\n', '1\\n', '2\\n', '2\\n', '1\\n', '2\\n', '2\\n', '1\\n', '1\\n', '2\\n', '2\\n', '2\\n', '2\\n', '2\\n', '1\\n', '1\\n', '2\\n', '0\\n', '1\\n', '1\\n', '1\\n', '0\\n', '0\\n', '1\\n', '1\\n', '2\\n', '1\\n', '1\\n', '2\\n', '2\\n', '1\\n', '0\\n', '1\\n', '1\\n', '2\\n', '1\\n', '0\\n', '0\\n', '2\\n', '1\\n', '0\\n', '0\\n', '1\\n', '1\\n', '1\\n', '0\\n', '1\\n', '1\\n', '1\\n', '1\\n', '1\\n', '1\\n', '2\\n', '2\\n', '1\\n', '1\\n', '0\\n', '1\\n', '2\\n', '2\\n', '2\\n', '1\\n', '1\\n', '1\\n', '2\\n', '2\\n', '0\\n', '2\\n', '1\\n', '1\\n', '1\\n', '2\\n', '1\\n', '0\\n', '1\\n', '2\\n', '2\\n', '2\\n', '2\\n', '1\\n', '2\\n', '1\\n', '2\\n', '2\\n', '1\\n', '2\\n', '0\\n', '2\\n', '2\\n', '1\\n', '0\\n', '1\\n', '1\\n', '1\\n', '2\\n', '2\\n', '1\\n', '1\\n', '0\\n', '1\\n', '0\\n', '1\\n', '2\\n', '0\\n', '1\\n', '1\\n', '1\\n', '1\\n', '1\\n', '1\\n', '1\\n', '1\\n', '2\\n', '1\\n', '1\\n', '2\\n', '1\\n', '2\\n', '1\\n', '0\\n', '1\\n', '1\\n', '2\\n', '0\\n', '2\\n', '1\\n', '2\\n', '2\\n', '2\\n', '0\\n', '1\\n', '0\\n', '2\\n', '1\\n', '2\\n', '1\\n', '0\\n', '2\\n', '1\\n', '2\\n', '2\\n', '2\\n', '2\\n', '1\\n', '1\\n', '1\\n', '1\\n', '1\\n', '2\\n', '0\\n', '1\\n', '2\\n', '1\\n', '0\\n', '1\\n', '2\\n', '2\\n', '2\\n', '1\\n', '1\\n', '2\\n', '1\\n', '0\\n', '2\\n', '1\\n', '1\\n', '1\\n', '2\\n', '1\\n', '2\\n', '0\\n', '2\\n', '2\\n', '0\\n', '0\\n', '2\\n', '2\\n', '2\\n', '0\\n', '2\\n', '2\\n', '0\\n', '1\\n', '2\\n', '0\\n', '1\\n', '2\\n', '1\\n', '2\\n', '0\\n', '2\\n', '2\\n', '1\\n', '2\\n', '2\\n', '2\\n', '1\\n', '2\\n', '0\\n', '1\\n', '1\\n', '2\\n', '1\\n', '0\\n', '2\\n', '1\\n', '2\\n', '2\\n', '0\\n', '2\\n', '2\\n', '1\\n', '0\\n', '2\\n', '2\\n', '1\\n', '1\\n', '1\\n', '2\\n', '2\\n', '2\\n', '2\\n', '1\\n', '2\\n', '2\\n', '2\\n', '1\\n', '2\\n', '1\\n', '1\\n', '2\\n', '1\\n', '1\\n', '2\\n', '2\\n', '1\\n', '1\\n', '1\\n', '2\\n', '1\\n', '1\\n', '2\\n', '2\\n', '2\\n', '2\\n', '2\\n', '1\\n', '2\\n', '2\\n', '1\\n', '2\\n', '1\\n', '2\\n', '1\\n', '1\\n', '2\\n', '2\\n', '1\\n', '2\\n', '2\\n', '2\\n', '1\\n', '1\\n', '1\\n', '1\\n', '1\\n', '1\\n', '2\\n', '1\\n', '0\\n', '2\\n', '1\\n', '2\\n', '0\\n', '1\\n', '1\\n', '2\\n', '2\\n', '1\\n', '0\\n', '2\\n', '2\\n', '2\\n', '2\\n', '2\\n', '1\\n', '2\\n', '1\\n', '2\\n', '2\\n', '1\\n', '0\\n', '2\\n', '2\\n', '2\\n', '2\\n', '0\\n', '2\\n', '1\\n', '1\\n', '1\\n', '1\\n', '1\\n', '2\\n', '0\\n', '0\\n', '2\\n', '2\\n', '2\\n', '0\\n', '1\\n', '2\\n', '1\\n', '2\\n', '2\\n', '2\\n', '1\\n', '1\\n', '2\\n', '1\\n', '1\\n', '0\\n', '1\\n', '0\\n', '1\\n', '0\\n', '2\\n', '2\\n', '2\\n', '1\\n', '2\\n', '0\\n', '2\\n', '1\\n', '2\\n', '1\\n', '1\\n', '2\\n', '1\\n', '2\\n', '1\\n', '1\\n', '2\\n', '1\\n', '1\\n', '0\\n', '2\\n', '1\\n', '2\\n', '2\\n', '2\\n', '2\\n', '2\\n', '2\\n', '1\\n', '1\\n', '1\\n', '1\\n', '2\\n', '1\\n', '0\\n', '1\\n', '2\\n', '1\\n', '0\\n', '1\\n', '2\\n', '2\\n', '0\\n', '2\\n', '0\\n', '2\\n', '1\\n', '2\\n', '2\\n', '2\\n', '2\\n', '2\\n', '1\\n', '0\\n', '1\\n', '1\\n', '1\\n', '1\\n', '2\\n', '2\\n', '1\\n', '2\\n', '0\\n', '2\\n', '0\\n', '1\\n', '0\\n', '2\\n', '1\\n', '0\\n', '0\\n', '1\\n', '1\\n', '1\\n', '2\\n', '1\\n', '0\\n', '1\\n', '2\\n', '0\\n', '1\\n', '1\\n', '2\\n', '1\\n', '1\\n', '2\\n', '1\\n', '1\\n', '1\\n', '1\\n', '1\\n', '1\\n', '1\\n', '2\\n', '2\\n', '2\\n', '1\\n', '2\\n', '1\\n', '1\\n', '1\\n', '2\\n', '1\\n', '1\\n', '1\\n', '1\\n', '2\\n', '2\\n', '2\\n', '1\\n', '2\\n', '2\\n', '0\\n', '1\\n', '1\\n', '1\\n', '0\\n', '2\\n', '1\\n', '2\\n', '2\\n', '1\\n', '2\\n', '1\\n', '0\\n', '2\\n', '1\\n', '2\\n', '2\\n', '2\\n', '2\\n', '1\\n', '1\\n', '0\\n', '0\\n', '2\\n', '0\\n', '2\\n', '1\\n', '2\\n', '2\\n', '2\\n', '2\\n', '1\\n', '1\\n', '0\\n', '2\\n', '2\\n', '2\\n', '0\\n', '1\\n', '1\\n', '0\\n', '0\\n', '2\\n', '1\\n', '1\\n', '2\\n', '1\\n', '1\\n']\n"
          ],
          "name": "stdout"
        }
      ]
    },
    {
      "cell_type": "code",
      "metadata": {
        "colab": {
          "base_uri": "https://localhost:8080/"
        },
        "id": "YK7QSAtP2RVd",
        "outputId": "e32fd6f7-b0fb-4fd5-e5fa-d66e14f3e24f"
      },
      "source": [
        "stream2=open(\"val_text.txt\")\r\n",
        "val_text=stream2.readlines()\r\n",
        "stream2.close()\r\n",
        "print(val_text[1])"
      ],
      "execution_count": 161,
      "outputs": [
        {
          "output_type": "stream",
          "text": [
            "\"National hot dog day, national tequila day, then national dance day... Sounds like a Friday night.\" \n",
            "\n"
          ],
          "name": "stdout"
        }
      ]
    },
    {
      "cell_type": "code",
      "metadata": {
        "id": "Zvr049fx2hIO"
      },
      "source": [
        ""
      ],
      "execution_count": null,
      "outputs": []
    },
    {
      "cell_type": "code",
      "metadata": {
        "colab": {
          "base_uri": "https://localhost:8080/"
        },
        "id": "McZo7V9vmuga",
        "outputId": "b77a483e-3efc-44b5-9fb7-9ca6d5cfa4e9"
      },
      "source": [
        "tweet_preprocess=[]\r\n",
        "\r\n",
        "for i in range(0,len(tweets)):\r\n",
        "  print(tweets[i])\r\n",
        " # tweets.append(preprocess(tweets[i]))\r\n",
        "  tweet_preprocess.append(preprocess(tweets[i]))\r\n",
        "  if i==10:\r\n",
        "    break\r\n",
        "\r\n",
        "print(tweet_preprocess[0])\r\n"
      ],
      "execution_count": 146,
      "outputs": [
        {
          "output_type": "stream",
          "text": [
            "@user @user what do these '1/2 naked pics' have to do with anything? They're not even like that. \n",
            "\n",
            "OH: “I had a blue penis while I was this” [playing with Google Earth VR] \n",
            "\n",
            "@user @user That's coming, but I think the victims are going to be Medicaid recipients. \n",
            "\n",
            "I think I may be finally in with the in crowd #mannequinchallenge  #grads2014 @user \n",
            "\n",
            "@user Wow,first Hugo Chavez and now Fidel Castro. Danny Glover, Michael Moore, Oliver Stone, and Sean Penn are running out of heroes. \n",
            "\n",
            "Savchenko now Saakashvili took drug test live on Ukraine TV. To prove they are not drug-fueled loonies? \n",
            "\n",
            "How many more days until opening day? 😩 \n",
            "\n",
            "Twitter's #ThankYouObama Shows Heartfelt Gratitude To POTUS \n",
            "\n",
            "All CSG and Fracking all around Australia is to cease and Mining Entities held Accountable! - Sign the Petition! \n",
            "\n",
            "@user @user @user @user @user @user take away illegals and dead people and Trump wins popular vote too. \n",
            "\n",
            "An interesting security vulnerability - albeit not for the everyday car thief \n",
            "\n",
            "@user @user what do these '1/2 naked pics' have to do with anything? They're not even like that. \n",
            "\n"
          ],
          "name": "stdout"
        }
      ]
    },
    {
      "cell_type": "code",
      "metadata": {
        "colab": {
          "base_uri": "https://localhost:8080/"
        },
        "id": "pVeO49kRXY-g",
        "outputId": "686f5e52-5beb-457c-eb78-64936e4d2a15"
      },
      "source": [
        "result=[]\r\n",
        "for i in  range(0,len(tweet_preprocess)):\r\n",
        "  result.append(model(tweet_preprocess[i]))\r\n",
        "  if i==2:\r\n",
        "    break\r\n",
        " \r\n",
        "print(result)\r\n"
      ],
      "execution_count": 132,
      "outputs": [
        {
          "output_type": "stream",
          "text": [
            "All model checkpoint layers were used when initializing TFRobertaForSequenceClassification.\n",
            "\n",
            "All the layers of TFRobertaForSequenceClassification were initialized from the model checkpoint at cardiffnlp/twitter-roberta-base-sentiment.\n",
            "If your task is similar to the task the model of the checkpoint was trained on, you can already use TFRobertaForSequenceClassification for predictions without further training.\n",
            "All model checkpoint layers were used when initializing TFRobertaForSequenceClassification.\n",
            "\n",
            "All the layers of TFRobertaForSequenceClassification were initialized from the model checkpoint at cardiffnlp/twitter-roberta-base-sentiment.\n",
            "If your task is similar to the task the model of the checkpoint was trained on, you can already use TFRobertaForSequenceClassification for predictions without further training.\n",
            "All model checkpoint layers were used when initializing TFRobertaForSequenceClassification.\n",
            "\n",
            "All the layers of TFRobertaForSequenceClassification were initialized from the model checkpoint at cardiffnlp/twitter-roberta-base-sentiment.\n",
            "If your task is similar to the task the model of the checkpoint was trained on, you can already use TFRobertaForSequenceClassification for predictions without further training.\n"
          ],
          "name": "stderr"
        },
        {
          "output_type": "stream",
          "text": [
            "[['1) negative 0.6384', '2) neutral 0.3398', '3) positive 0.0218'], ['1) neutral 0.7194', '2) positive 0.1802', '3) negative 0.1003'], ['1) negative 0.603', '2) neutral 0.3721', '3) positive 0.0249']]\n"
          ],
          "name": "stdout"
        }
      ]
    },
    {
      "cell_type": "code",
      "metadata": {
        "colab": {
          "base_uri": "https://localhost:8080/"
        },
        "id": "xgL2Di43YK2x",
        "outputId": "b975e788-7133-4e90-ef17-34f29d161ecb"
      },
      "source": [
        "print(result)\r\n"
      ],
      "execution_count": 141,
      "outputs": [
        {
          "output_type": "stream",
          "text": [
            "[['1) negative 0.6384', '2) neutral 0.3398', '3) positive 0.0218'], ['1) neutral 0.7194', '2) positive 0.1802', '3) negative 0.1003'], ['1) negative 0.603', '2) neutral 0.3721', '3) positive 0.0249']]\n"
          ],
          "name": "stdout"
        }
      ]
    },
    {
      "cell_type": "code",
      "metadata": {
        "id": "ex_335H8kpWP"
      },
      "source": [
        "def model(tweets):\r\n",
        "\r\n",
        " model = TFAutoModelForSequenceClassification.from_pretrained(MODEL)\r\n",
        "\r\n",
        " text = tweets\r\n",
        " encoded_input = tokenizer(text, return_tensors='tf')\r\n",
        " output = model(encoded_input)\r\n",
        " scores = output[0][0].numpy()\r\n",
        " scores = softmax(scores)\r\n",
        "\r\n",
        " temp_list=[]\r\n",
        " ranking = np.argsort(scores)\r\n",
        " ranking = ranking[::-1]\r\n",
        " for i in range(scores.shape[0]):\r\n",
        "    l = labels[ranking[i]]\r\n",
        "    s = scores[ranking[i]]\r\n",
        "    temp_list.append(f\"{i+1}) {l} {np.round(float(s), 4)}\")\r\n",
        " return temp_list"
      ],
      "execution_count": 142,
      "outputs": []
    },
    {
      "cell_type": "code",
      "metadata": {
        "id": "R8cr0GPomOmc"
      },
      "source": [
        ""
      ],
      "execution_count": 143,
      "outputs": []
    },
    {
      "cell_type": "code",
      "metadata": {
        "id": "UFZzRYnGkrr_"
      },
      "source": [
        ""
      ],
      "execution_count": 86,
      "outputs": []
    },
    {
      "cell_type": "code",
      "metadata": {
        "id": "9PxC3a6wkwmQ"
      },
      "source": [
        ""
      ],
      "execution_count": 139,
      "outputs": []
    },
    {
      "cell_type": "code",
      "metadata": {
        "id": "Hy3UaGtp5AqC"
      },
      "source": [
        ""
      ],
      "execution_count": null,
      "outputs": []
    }
  ]
}